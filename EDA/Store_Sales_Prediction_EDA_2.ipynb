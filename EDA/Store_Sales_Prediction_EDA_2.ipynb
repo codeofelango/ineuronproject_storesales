{
  "cells": [
    {
      "cell_type": "markdown",
      "metadata": {
        "id": "dyQRY-O3fpRN"
      },
      "source": [
        "Steps followed\n",
        "<ul> 1).Problem Statement</ul>\n",
        "<ul> 2).Hypothesis Generation</ul>\n",
        "<ul> 3).Loading Packages and Data</ul>\n",
        "<ul> 4).Data Structure and Content</ul>\n",
        "<ul> 5).Exploratory Data Analysis</ul>\n",
        "<ul> 6).Univariate Analysis</ul>\n",
        "<ul> 7).Bivariate Analysis</ul>\n",
        "<ul> 8).Missing Value Treatment</ul>\n",
        "<ul> 9).Feature Engineering</ul>\n",
        "<ul> 10).Encoding Categorical Variables</ul>\n",
        "<ul> 11).Label Encoding</ul>\n",
        "<ul> 12).One Hot Encoding</ul>\n",
        "<ul> 13).PreProcessing Data</ul>\n",
        "<ul> 14).Modeling</ul>\n",
        "<ul> 15).Linear Regression</ul>\n",
        "<ul> 16).Regularized Linear Regression</ul>\n",
        "<ul> 17).RandomForest</ul>\n",
        "<ul> 18).XGBoost</ul>\n",
        "<ul> 19).Summary</ul>"
      ]
    },
    {
      "cell_type": "markdown",
      "metadata": {
        "id": "M-sVGkN7fpRZ"
      },
      "source": [
        "### Loading Packages"
      ]
    },
    {
      "cell_type": "code",
      "execution_count": 2,
      "metadata": {
        "id": "b6A6ioO_fpRa"
      },
      "outputs": [],
      "source": [
        "import pandas as pd \n",
        "import numpy as np                     # For mathematical calculations \n",
        "import seaborn as sns                  # For data visualization \n",
        "import matplotlib.pyplot as plt        # For plotting graphs \n",
        "%matplotlib inline \n",
        "import warnings   # To ignore any warnings \n",
        "warnings.filterwarnings(\"ignore\")"
      ]
    },
    {
      "cell_type": "markdown",
      "metadata": {
        "id": "YQKhoEWLfpRc"
      },
      "source": [
        "### Reading Data"
      ]
    },
    {
      "cell_type": "code",
      "execution_count": 3,
      "metadata": {
        "id": "77v5amkHfpRd"
      },
      "outputs": [],
      "source": [
        "train = pd.read_csv('https://raw.githubusercontent.com/codeofelango/ineuronproject_storesales/main/Train.csv')\n",
        "test = pd.read_csv('https://raw.githubusercontent.com/codeofelango/ineuronproject_storesales/main/Test.csv')"
      ]
    },
    {
      "cell_type": "code",
      "execution_count": 4,
      "metadata": {
        "colab": {
          "base_uri": "https://localhost:8080/"
        },
        "id": "orNlbmvIfpRe",
        "outputId": "0753052e-e5ca-453f-d45d-a84a0b5003e8"
      },
      "outputs": [
        {
          "output_type": "execute_result",
          "data": {
            "text/plain": [
              "((8523, 12), (5681, 11))"
            ]
          },
          "metadata": {},
          "execution_count": 4
        }
      ],
      "source": [
        "train.shape,test.shape"
      ]
    },
    {
      "cell_type": "markdown",
      "metadata": {
        "id": "qhfpA8r1fpRf"
      },
      "source": [
        "Let’s make a copy of train and test data so that even if we have to make any changes in these datasets we would not lose the original datasets."
      ]
    },
    {
      "cell_type": "code",
      "execution_count": 5,
      "metadata": {
        "id": "qJAhlR2LfpRg"
      },
      "outputs": [],
      "source": [
        "train_original=train.copy() \n",
        "test_original=test.copy()"
      ]
    },
    {
      "cell_type": "markdown",
      "metadata": {
        "id": "N8H9BPw6fpRh"
      },
      "source": [
        "### Features of Data\n",
        "We will take a quick glance over the feature names of train and test datasets."
      ]
    },
    {
      "cell_type": "code",
      "execution_count": 6,
      "metadata": {
        "colab": {
          "base_uri": "https://localhost:8080/"
        },
        "id": "q8mQhMFKfpRh",
        "outputId": "9103a57d-c543-4bdb-d8c2-645da75b7ccb"
      },
      "outputs": [
        {
          "output_type": "stream",
          "name": "stdout",
          "text": [
            "<class 'pandas.core.frame.DataFrame'>\n",
            "RangeIndex: 8523 entries, 0 to 8522\n",
            "Data columns (total 12 columns):\n",
            " #   Column                     Non-Null Count  Dtype  \n",
            "---  ------                     --------------  -----  \n",
            " 0   Item_Identifier            8523 non-null   object \n",
            " 1   Item_Weight                7060 non-null   float64\n",
            " 2   Item_Fat_Content           8523 non-null   object \n",
            " 3   Item_Visibility            8523 non-null   float64\n",
            " 4   Item_Type                  8523 non-null   object \n",
            " 5   Item_MRP                   8523 non-null   float64\n",
            " 6   Outlet_Identifier          8523 non-null   object \n",
            " 7   Outlet_Establishment_Year  8523 non-null   int64  \n",
            " 8   Outlet_Size                6113 non-null   object \n",
            " 9   Outlet_Location_Type       8523 non-null   object \n",
            " 10  Outlet_Type                8523 non-null   object \n",
            " 11  Item_Outlet_Sales          8523 non-null   float64\n",
            "dtypes: float64(4), int64(1), object(7)\n",
            "memory usage: 799.2+ KB\n",
            "<class 'pandas.core.frame.DataFrame'>\n",
            "RangeIndex: 5681 entries, 0 to 5680\n",
            "Data columns (total 11 columns):\n",
            " #   Column                     Non-Null Count  Dtype  \n",
            "---  ------                     --------------  -----  \n",
            " 0   Item_Identifier            5681 non-null   object \n",
            " 1   Item_Weight                4705 non-null   float64\n",
            " 2   Item_Fat_Content           5681 non-null   object \n",
            " 3   Item_Visibility            5681 non-null   float64\n",
            " 4   Item_Type                  5681 non-null   object \n",
            " 5   Item_MRP                   5681 non-null   float64\n",
            " 6   Outlet_Identifier          5681 non-null   object \n",
            " 7   Outlet_Establishment_Year  5681 non-null   int64  \n",
            " 8   Outlet_Size                4075 non-null   object \n",
            " 9   Outlet_Location_Type       5681 non-null   object \n",
            " 10  Outlet_Type                5681 non-null   object \n",
            "dtypes: float64(3), int64(1), object(7)\n",
            "memory usage: 488.3+ KB\n"
          ]
        },
        {
          "output_type": "execute_result",
          "data": {
            "text/plain": [
              "(None, None)"
            ]
          },
          "metadata": {},
          "execution_count": 6
        }
      ],
      "source": [
        "train.info(),test.info()"
      ]
    },
    {
      "cell_type": "markdown",
      "metadata": {
        "id": "ebG9BjSbfpRi"
      },
      "source": [
        "As we can see, there are 4 numeric and 7 categorical variables."
      ]
    },
    {
      "cell_type": "markdown",
      "metadata": {
        "id": "-eU-Mh7bfpRi"
      },
      "source": [
        "\n",
        "\n",
        "We need to predict Item_Outlet_Sales for given test data\n",
        "\n",
        "lets first merge the train and test data for Exploratory Data Analysis\n",
        "\n"
      ]
    },
    {
      "cell_type": "code",
      "execution_count": 8,
      "metadata": {
        "colab": {
          "base_uri": "https://localhost:8080/"
        },
        "id": "PYamYRjUfpRj",
        "outputId": "b1398c4a-7238-4192-8c18-4ace9a7b6676"
      },
      "outputs": [
        {
          "output_type": "stream",
          "name": "stdout",
          "text": [
            "(8523, 13) (5681, 12) (14204, 13)\n"
          ]
        }
      ],
      "source": [
        "train['source'] = 'train'\n",
        "# test['source'] = 'test'\n",
        "test['Item_Outlet_Sales'] = 0\n",
        "data = pd.concat([train, test], sort = False)\n",
        "print(train.shape, test.shape, data.shape)"
      ]
    },
    {
      "cell_type": "code",
      "execution_count": 9,
      "metadata": {
        "colab": {
          "base_uri": "https://localhost:8080/"
        },
        "id": "4oAeqxqXfpRj",
        "outputId": "d1bb7ca5-dc81-4206-a73f-8ae0ba703234"
      },
      "outputs": [
        {
          "output_type": "execute_result",
          "data": {
            "text/plain": [
              "count    14204.000000\n",
              "mean      1308.865489\n",
              "std       1699.791423\n",
              "min          0.000000\n",
              "25%          0.000000\n",
              "50%        559.272000\n",
              "75%       2163.184200\n",
              "max      13086.964800\n",
              "Name: Item_Outlet_Sales, dtype: float64"
            ]
          },
          "metadata": {},
          "execution_count": 9
        }
      ],
      "source": [
        "data['Item_Outlet_Sales'].describe()"
      ]
    },
    {
      "cell_type": "code",
      "execution_count": 10,
      "metadata": {
        "colab": {
          "base_uri": "https://localhost:8080/",
          "height": 299
        },
        "id": "b_gwYcbSfpRj",
        "outputId": "09b5cb6c-54c4-4df0-d753-31d18b851a98"
      },
      "outputs": [
        {
          "output_type": "execute_result",
          "data": {
            "text/plain": [
              "<matplotlib.axes._subplots.AxesSubplot at 0x7f12a14d8c90>"
            ]
          },
          "metadata": {},
          "execution_count": 10
        },
        {
          "output_type": "display_data",
          "data": {
            "text/plain": [
              "<Figure size 432x288 with 1 Axes>"
            ],
            "image/png": "[encoded data removed]"
          },
          "metadata": {
            "needs_background": "light"
          }
        }
      ],
      "source": [
        "sns.distplot(data['Item_Outlet_Sales'])"
      ]
    },
    {
      "cell_type": "code",
      "execution_count": 12,
      "metadata": {
        "colab": {
          "base_uri": "https://localhost:8080/"
        },
        "id": "Y9o2hQpffpRk",
        "outputId": "3fbfbd2a-2d5e-4547-e363-77759cebc589"
      },
      "outputs": [
        {
          "output_type": "stream",
          "name": "stdout",
          "text": [
            "Skewness: 1.544684\n",
            "Kurtsis: 2.419439\n"
          ]
        }
      ],
      "source": [
        "print('Skewness: %f' % data['Item_Outlet_Sales'].skew())\n",
        "print('Kurtsis: %f' %data['Item_Outlet_Sales'].kurt())"
      ]
    },
    {
      "cell_type": "code",
      "execution_count": 13,
      "metadata": {
        "colab": {
          "base_uri": "https://localhost:8080/",
          "height": 112
        },
        "id": "b54iWm4CfpRl",
        "outputId": "be336b91-1615-43a4-f652-640fdaaf6657"
      },
      "outputs": [
        {
          "output_type": "execute_result",
          "data": {
            "text/plain": [
              "  Item_Identifier Item_Fat_Content    Item_Type Outlet_Identifier Outlet_Size  \\\n",
              "0           FDA15          Low Fat        Dairy            OUT049      Medium   \n",
              "1           DRC01          Regular  Soft Drinks            OUT018      Medium   \n",
              "\n",
              "  Outlet_Location_Type        Outlet_Type source  \n",
              "0               Tier 1  Supermarket Type1  train  \n",
              "1               Tier 3  Supermarket Type2  train  "
            ],
            "text/html": [
              "\n",
              "  <div id=\"df-fedf023d-f318-4fc5-b42d-3f4b22afff32\">\n",
              "    <div class=\"colab-df-container\">\n",
              "      <div>\n",
              "<style scoped>\n",
              "    .dataframe tbody tr th:only-of-type {\n",
              "        vertical-align: middle;\n",
              "    }\n",
              "\n",
              "    .dataframe tbody tr th {\n",
              "        vertical-align: top;\n",
              "    }\n",
              "\n",
              "    .dataframe thead th {\n",
              "        text-align: right;\n",
              "    }\n",
              "</style>\n",
              "<table border=\"1\" class=\"dataframe\">\n",
              "  <thead>\n",
              "    <tr style=\"text-align: right;\">\n",
              "      <th></th>\n",
              "      <th>Item_Identifier</th>\n",
              "      <th>Item_Fat_Content</th>\n",
              "      <th>Item_Type</th>\n",
              "      <th>Outlet_Identifier</th>\n",
              "      <th>Outlet_Size</th>\n",
              "      <th>Outlet_Location_Type</th>\n",
              "      <th>Outlet_Type</th>\n",
              "      <th>source</th>\n",
              "    </tr>\n",
              "  </thead>\n",
              "  <tbody>\n",
              "    <tr>\n",
              "      <th>0</th>\n",
              "      <td>FDA15</td>\n",
              "      <td>Low Fat</td>\n",
              "      <td>Dairy</td>\n",
              "      <td>OUT049</td>\n",
              "      <td>Medium</td>\n",
              "      <td>Tier 1</td>\n",
              "      <td>Supermarket Type1</td>\n",
              "      <td>train</td>\n",
              "    </tr>\n",
              "    <tr>\n",
              "      <th>1</th>\n",
              "      <td>DRC01</td>\n",
              "      <td>Regular</td>\n",
              "      <td>Soft Drinks</td>\n",
              "      <td>OUT018</td>\n",
              "      <td>Medium</td>\n",
              "      <td>Tier 3</td>\n",
              "      <td>Supermarket Type2</td>\n",
              "      <td>train</td>\n",
              "    </tr>\n",
              "  </tbody>\n",
              "</table>\n",
              "</div>\n",
              "      <button class=\"colab-df-convert\" onclick=\"convertToInteractive('df-fedf023d-f318-4fc5-b42d-3f4b22afff32')\"\n",
              "              title=\"Convert this dataframe to an interactive table.\"\n",
              "              style=\"display:none;\">\n",
              "        \n",
              "  <svg xmlns=\"http://www.w3.org/2000/svg\" height=\"24px\"viewBox=\"0 0 24 24\"\n",
              "       width=\"24px\">\n",
              "    <path d=\"M0 0h24v24H0V0z\" fill=\"none\"/>\n",
              "    <path d=\"M18.56 5.44l.94 2.06.94-2.06 2.06-.94-2.06-.94-.94-2.06-.94 2.06-2.06.94zm-11 1L8.5 8.5l.94-2.06 2.06-.94-2.06-.94L8.5 2.5l-.94 2.06-2.06.94zm10 10l.94 2.06.94-2.06 2.06-.94-2.06-.94-.94-2.06-.94 2.06-2.06.94z\"/><path d=\"M17.41 7.96l-1.37-1.37c-.4-.4-.92-.59-1.43-.59-.52 0-1.04.2-1.43.59L10.3 9.45l-7.72 7.72c-.78.78-.78 2.05 0 2.83L4 21.41c.39.39.9.59 1.41.59.51 0 1.02-.2 1.41-.59l7.78-7.78 2.81-2.81c.8-.78.8-2.07 0-2.86zM5.41 20L4 18.59l7.72-7.72 1.47 1.35L5.41 20z\"/>\n",
              "  </svg>\n",
              "      </button>\n",
              "      \n",
              "  <style>\n",
              "    .colab-df-container {\n",
              "      display:flex;\n",
              "      flex-wrap:wrap;\n",
              "      gap: 12px;\n",
              "    }\n",
              "\n",
              "    .colab-df-convert {\n",
              "      background-color: #E8F0FE;\n",
              "      border: none;\n",
              "      border-radius: 50%;\n",
              "      cursor: pointer;\n",
              "      display: none;\n",
              "      fill: #1967D2;\n",
              "      height: 32px;\n",
              "      padding: 0 0 0 0;\n",
              "      width: 32px;\n",
              "    }\n",
              "\n",
              "    .colab-df-convert:hover {\n",
              "      background-color: #E2EBFA;\n",
              "      box-shadow: 0px 1px 2px rgba(60, 64, 67, 0.3), 0px 1px 3px 1px rgba(60, 64, 67, 0.15);\n",
              "      fill: #174EA6;\n",
              "    }\n",
              "\n",
              "    [theme=dark] .colab-df-convert {\n",
              "      background-color: #3B4455;\n",
              "      fill: #D2E3FC;\n",
              "    }\n",
              "\n",
              "    [theme=dark] .colab-df-convert:hover {\n",
              "      background-color: #434B5C;\n",
              "      box-shadow: 0px 1px 3px 1px rgba(0, 0, 0, 0.15);\n",
              "      filter: drop-shadow(0px 1px 2px rgba(0, 0, 0, 0.3));\n",
              "      fill: #FFFFFF;\n",
              "    }\n",
              "  </style>\n",
              "\n",
              "      <script>\n",
              "        const buttonEl =\n",
              "          document.querySelector('#df-fedf023d-f318-4fc5-b42d-3f4b22afff32 button.colab-df-convert');\n",
              "        buttonEl.style.display =\n",
              "          google.colab.kernel.accessAllowed ? 'block' : 'none';\n",
              "\n",
              "        async function convertToInteractive(key) {\n",
              "          const element = document.querySelector('#df-fedf023d-f318-4fc5-b42d-3f4b22afff32');\n",
              "          const dataTable =\n",
              "            await google.colab.kernel.invokeFunction('convertToInteractive',\n",
              "                                                     [key], {});\n",
              "          if (!dataTable) return;\n",
              "\n",
              "          const docLinkHtml = 'Like what you see? Visit the ' +\n",
              "            '<a target=\"_blank\" href=https://colab.research.google.com/notebooks/data_table.ipynb>data table notebook</a>'\n",
              "            + ' to learn more about interactive tables.';\n",
              "          element.innerHTML = '';\n",
              "          dataTable['output_type'] = 'display_data';\n",
              "          await google.colab.output.renderOutput(dataTable, element);\n",
              "          const docLink = document.createElement('div');\n",
              "          docLink.innerHTML = docLinkHtml;\n",
              "          element.appendChild(docLink);\n",
              "        }\n",
              "      </script>\n",
              "    </div>\n",
              "  </div>\n",
              "  "
            ]
          },
          "metadata": {},
          "execution_count": 13
        }
      ],
      "source": [
        "categorial_features = data.select_dtypes(include=[np.object])\n",
        "categorial_features.head(2)"
      ]
    },
    {
      "cell_type": "code",
      "execution_count": 14,
      "metadata": {
        "colab": {
          "base_uri": "https://localhost:8080/",
          "height": 112
        },
        "id": "EJsw4-w9fpRl",
        "outputId": "ac62ab3b-d671-443c-ebfb-8da531b6b071"
      },
      "outputs": [
        {
          "output_type": "execute_result",
          "data": {
            "text/plain": [
              "   Item_Weight  Item_Visibility  Item_MRP  Outlet_Establishment_Year  \\\n",
              "0         9.30         0.016047  249.8092                       1999   \n",
              "1         5.92         0.019278   48.2692                       2009   \n",
              "\n",
              "   Item_Outlet_Sales  \n",
              "0          3735.1380  \n",
              "1           443.4228  "
            ],
            "text/html": [
              "\n",
              "  <div id=\"df-4084600e-26f3-474c-a000-02480ac7f731\">\n",
              "    <div class=\"colab-df-container\">\n",
              "      <div>\n",
              "<style scoped>\n",
              "    .dataframe tbody tr th:only-of-type {\n",
              "        vertical-align: middle;\n",
              "    }\n",
              "\n",
              "    .dataframe tbody tr th {\n",
              "        vertical-align: top;\n",
              "    }\n",
              "\n",
              "    .dataframe thead th {\n",
              "        text-align: right;\n",
              "    }\n",
              "</style>\n",
              "<table border=\"1\" class=\"dataframe\">\n",
              "  <thead>\n",
              "    <tr style=\"text-align: right;\">\n",
              "      <th></th>\n",
              "      <th>Item_Weight</th>\n",
              "      <th>Item_Visibility</th>\n",
              "      <th>Item_MRP</th>\n",
              "      <th>Outlet_Establishment_Year</th>\n",
              "      <th>Item_Outlet_Sales</th>\n",
              "    </tr>\n",
              "  </thead>\n",
              "  <tbody>\n",
              "    <tr>\n",
              "      <th>0</th>\n",
              "      <td>9.30</td>\n",
              "      <td>0.016047</td>\n",
              "      <td>249.8092</td>\n",
              "      <td>1999</td>\n",
              "      <td>3735.1380</td>\n",
              "    </tr>\n",
              "    <tr>\n",
              "      <th>1</th>\n",
              "      <td>5.92</td>\n",
              "      <td>0.019278</td>\n",
              "      <td>48.2692</td>\n",
              "      <td>2009</td>\n",
              "      <td>443.4228</td>\n",
              "    </tr>\n",
              "  </tbody>\n",
              "</table>\n",
              "</div>\n",
              "      <button class=\"colab-df-convert\" onclick=\"convertToInteractive('df-4084600e-26f3-474c-a000-02480ac7f731')\"\n",
              "              title=\"Convert this dataframe to an interactive table.\"\n",
              "              style=\"display:none;\">\n",
              "        \n",
              "  <svg xmlns=\"http://www.w3.org/2000/svg\" height=\"24px\"viewBox=\"0 0 24 24\"\n",
              "       width=\"24px\">\n",
              "    <path d=\"M0 0h24v24H0V0z\" fill=\"none\"/>\n",
              "    <path d=\"M18.56 5.44l.94 2.06.94-2.06 2.06-.94-2.06-.94-.94-2.06-.94 2.06-2.06.94zm-11 1L8.5 8.5l.94-2.06 2.06-.94-2.06-.94L8.5 2.5l-.94 2.06-2.06.94zm10 10l.94 2.06.94-2.06 2.06-.94-2.06-.94-.94-2.06-.94 2.06-2.06.94z\"/><path d=\"M17.41 7.96l-1.37-1.37c-.4-.4-.92-.59-1.43-.59-.52 0-1.04.2-1.43.59L10.3 9.45l-7.72 7.72c-.78.78-.78 2.05 0 2.83L4 21.41c.39.39.9.59 1.41.59.51 0 1.02-.2 1.41-.59l7.78-7.78 2.81-2.81c.8-.78.8-2.07 0-2.86zM5.41 20L4 18.59l7.72-7.72 1.47 1.35L5.41 20z\"/>\n",
              "  </svg>\n",
              "      </button>\n",
              "      \n",
              "  <style>\n",
              "    .colab-df-container {\n",
              "      display:flex;\n",
              "      flex-wrap:wrap;\n",
              "      gap: 12px;\n",
              "    }\n",
              "\n",
              "    .colab-df-convert {\n",
              "      background-color: #E8F0FE;\n",
              "      border: none;\n",
              "      border-radius: 50%;\n",
              "      cursor: pointer;\n",
              "      display: none;\n",
              "      fill: #1967D2;\n",
              "      height: 32px;\n",
              "      padding: 0 0 0 0;\n",
              "      width: 32px;\n",
              "    }\n",
              "\n",
              "    .colab-df-convert:hover {\n",
              "      background-color: #E2EBFA;\n",
              "      box-shadow: 0px 1px 2px rgba(60, 64, 67, 0.3), 0px 1px 3px 1px rgba(60, 64, 67, 0.15);\n",
              "      fill: #174EA6;\n",
              "    }\n",
              "\n",
              "    [theme=dark] .colab-df-convert {\n",
              "      background-color: #3B4455;\n",
              "      fill: #D2E3FC;\n",
              "    }\n",
              "\n",
              "    [theme=dark] .colab-df-convert:hover {\n",
              "      background-color: #434B5C;\n",
              "      box-shadow: 0px 1px 3px 1px rgba(0, 0, 0, 0.15);\n",
              "      filter: drop-shadow(0px 1px 2px rgba(0, 0, 0, 0.3));\n",
              "      fill: #FFFFFF;\n",
              "    }\n",
              "  </style>\n",
              "\n",
              "      <script>\n",
              "        const buttonEl =\n",
              "          document.querySelector('#df-4084600e-26f3-474c-a000-02480ac7f731 button.colab-df-convert');\n",
              "        buttonEl.style.display =\n",
              "          google.colab.kernel.accessAllowed ? 'block' : 'none';\n",
              "\n",
              "        async function convertToInteractive(key) {\n",
              "          const element = document.querySelector('#df-4084600e-26f3-474c-a000-02480ac7f731');\n",
              "          const dataTable =\n",
              "            await google.colab.kernel.invokeFunction('convertToInteractive',\n",
              "                                                     [key], {});\n",
              "          if (!dataTable) return;\n",
              "\n",
              "          const docLinkHtml = 'Like what you see? Visit the ' +\n",
              "            '<a target=\"_blank\" href=https://colab.research.google.com/notebooks/data_table.ipynb>data table notebook</a>'\n",
              "            + ' to learn more about interactive tables.';\n",
              "          element.innerHTML = '';\n",
              "          dataTable['output_type'] = 'display_data';\n",
              "          await google.colab.output.renderOutput(dataTable, element);\n",
              "          const docLink = document.createElement('div');\n",
              "          docLink.innerHTML = docLinkHtml;\n",
              "          element.appendChild(docLink);\n",
              "        }\n",
              "      </script>\n",
              "    </div>\n",
              "  </div>\n",
              "  "
            ]
          },
          "metadata": {},
          "execution_count": 14
        }
      ],
      "source": [
        "numerical_features = data.select_dtypes(include=[np.number])\n",
        "numerical_features.head(2)"
      ]
    },
    {
      "cell_type": "code",
      "execution_count": 15,
      "metadata": {
        "colab": {
          "base_uri": "https://localhost:8080/"
        },
        "id": "sjTu1B2UfpRm",
        "outputId": "b696db0e-6df6-4a74-9ca1-4c3ae349824b"
      },
      "outputs": [
        {
          "output_type": "execute_result",
          "data": {
            "text/plain": [
              "1985    2439\n",
              "1987    1553\n",
              "1999    1550\n",
              "1997    1550\n",
              "2004    1550\n",
              "2002    1548\n",
              "2009    1546\n",
              "2007    1543\n",
              "1998     925\n",
              "Name: Outlet_Establishment_Year, dtype: int64"
            ]
          },
          "metadata": {},
          "execution_count": 15
        }
      ],
      "source": [
        "data['Outlet_Establishment_Year'].value_counts()"
      ]
    },
    {
      "cell_type": "code",
      "execution_count": 16,
      "metadata": {
        "colab": {
          "base_uri": "https://localhost:8080/",
          "height": 265
        },
        "id": "01R3SXY7fpRm",
        "outputId": "99dcb426-306d-424f-b017-21eb357c339a"
      },
      "outputs": [
        {
          "output_type": "display_data",
          "data": {
            "text/plain": [
              "<Figure size 432x288 with 1 Axes>"
            ],
            "image/png": "[encoded data removed]"
          },
          "metadata": {
            "needs_background": "light"
          }
        }
      ],
      "source": [
        "train['Item_Outlet_Sales'].hist(bins = 100);"
      ]
    },
    {
      "cell_type": "markdown",
      "metadata": {
        "id": "nc6_Yj4QfpRn"
      },
      "source": [
        "As you can see, it is a right skewd variable and would need some data transformation to treat its skewness."
      ]
    },
    {
      "cell_type": "markdown",
      "metadata": {
        "id": "_68BlKiAfpRn"
      },
      "source": [
        "### Independent Variables (numeric variables)\n",
        "Now let’s check the numeric independent variables. We’ll again use the histograms for visualizations because that will help us in visualizing the distribution of the variables."
      ]
    },
    {
      "cell_type": "code",
      "execution_count": 17,
      "metadata": {
        "scrolled": true,
        "colab": {
          "base_uri": "https://localhost:8080/",
          "height": 265
        },
        "id": "TKTRR8YmfpRo",
        "outputId": "c3a2c0c2-b5c4-4b6c-9ed4-e7bbe1ecaa75"
      },
      "outputs": [
        {
          "output_type": "display_data",
          "data": {
            "text/plain": [
              "<Figure size 432x288 with 1 Axes>"
            ],
            "image/png": "[encoded data removed]"
          },
          "metadata": {
            "needs_background": "light"
          }
        }
      ],
      "source": [
        "train['Item_Weight'].hist(bins = 100);"
      ]
    },
    {
      "cell_type": "code",
      "execution_count": 18,
      "metadata": {
        "colab": {
          "base_uri": "https://localhost:8080/",
          "height": 284
        },
        "id": "cWNIMo1xfpRo",
        "outputId": "684665d3-3e7b-425a-a242-8b4c5d093903"
      },
      "outputs": [
        {
          "output_type": "execute_result",
          "data": {
            "text/plain": [
              "<matplotlib.axes._subplots.AxesSubplot at 0x7f129e2ef390>"
            ]
          },
          "metadata": {},
          "execution_count": 18
        },
        {
          "output_type": "display_data",
          "data": {
            "text/plain": [
              "<Figure size 432x288 with 1 Axes>"
            ],
            "image/png": "[encoded data removed]"
          },
          "metadata": {
            "needs_background": "light"
          }
        }
      ],
      "source": [
        "train['Item_Visibility'].hist(bins = 100)"
      ]
    },
    {
      "cell_type": "code",
      "execution_count": null,
      "metadata": {
        "id": "toHMzrAffpRo",
        "outputId": "2ef37a7b-cf13-4441-f314-fd1f9a023c19"
      },
      "outputs": [
        {
          "data": {
            "text/plain": [
              "<matplotlib.axes._subplots.AxesSubplot at 0x7f2e267c1240>"
            ]
          },
          "execution_count": 16,
          "metadata": {},
          "output_type": "execute_result"
        },
        {
          "data": {
            "image/png": "[encoded data removed]",
            "text/plain": [
              "<Figure size 432x288 with 1 Axes>"
            ]
          },
          "metadata": {
            "needs_background": "light"
          },
          "output_type": "display_data"
        }
      ],
      "source": [
        "train['Item_MRP'].hist(bins = 100)"
      ]
    },
    {
      "cell_type": "markdown",
      "metadata": {
        "id": "ZXyhNm70fpRp"
      },
      "source": [
        "#### Observations\n",
        "\n",
        "There seems to be no clear-cut pattern in Item_Weight.\n",
        "Item_Visibility is right-skewed and should be transformed to curb its skewness.\n",
        "We can clearly see 4 different distributions for Item_MRP. It is an interesting insight."
      ]
    },
    {
      "cell_type": "markdown",
      "metadata": {
        "id": "EIbUboDMfpRp"
      },
      "source": [
        "### Independent Variables (categorical variables)\n",
        "\n",
        "Now we’ll try to explore and gain some insights from the categorical variables. A categorical variable or feature can have only a finite set of values. Let’s first plot Item_Fat_Content."
      ]
    },
    {
      "cell_type": "code",
      "execution_count": 19,
      "metadata": {
        "colab": {
          "base_uri": "https://localhost:8080/",
          "height": 369
        },
        "id": "tCWbMu4PfpRq",
        "outputId": "2e2b389a-e3f7-4524-9192-8a43a5338c7d"
      },
      "outputs": [
        {
          "output_type": "display_data",
          "data": {
            "text/plain": [
              "<Figure size 360x360 with 1 Axes>"
            ],
            "image/png": "[encoded data removed]"
          },
          "metadata": {
            "needs_background": "light"
          }
        }
      ],
      "source": [
        "import seaborn as sns\n",
        "sns.catplot(x=\"Item_Fat_Content\", kind=\"count\", data=train);"
      ]
    },
    {
      "cell_type": "markdown",
      "metadata": {
        "id": "7iPL0p-VfpRq"
      },
      "source": [
        "In the figure above, ‘LF’, ‘low fat’, and ‘Low Fat’ are the same category and can be combined into one. Similarly we can be done for ‘reg’ and ‘Regular’ into one. After making these corrections we’ll plot the same figure again."
      ]
    },
    {
      "cell_type": "code",
      "execution_count": 20,
      "metadata": {
        "id": "NEWoyS9ffpRq"
      },
      "outputs": [],
      "source": [
        "train['Item_Fat_Content'].replace({'reg':'Regular','low fat':'Low Fat','LF':'Low Fat'},inplace = True)"
      ]
    },
    {
      "cell_type": "code",
      "execution_count": 21,
      "metadata": {
        "colab": {
          "base_uri": "https://localhost:8080/",
          "height": 388
        },
        "id": "bXRhXv6MfpRr",
        "outputId": "23c5ebc5-2754-474a-8384-0cbe853f71df"
      },
      "outputs": [
        {
          "output_type": "execute_result",
          "data": {
            "text/plain": [
              "<seaborn.axisgrid.FacetGrid at 0x7f129e0d6690>"
            ]
          },
          "metadata": {},
          "execution_count": 21
        },
        {
          "output_type": "display_data",
          "data": {
            "text/plain": [
              "<Figure size 360x360 with 1 Axes>"
            ],
            "image/png": "[encoded data removed]"
          },
          "metadata": {
            "needs_background": "light"
          }
        }
      ],
      "source": [
        "sns.catplot('Item_Fat_Content',kind = 'count',data = train)"
      ]
    },
    {
      "cell_type": "markdown",
      "metadata": {
        "id": "UI8cv-2yfpRr"
      },
      "source": [
        "### Now lets check other categorical variables"
      ]
    },
    {
      "cell_type": "code",
      "execution_count": 22,
      "metadata": {
        "colab": {
          "base_uri": "https://localhost:8080/",
          "height": 388
        },
        "id": "rV47ukj3fpRr",
        "outputId": "f0471ccf-71d2-4512-8c1a-5ad6639e0242"
      },
      "outputs": [
        {
          "output_type": "execute_result",
          "data": {
            "text/plain": [
              "<seaborn.axisgrid.FacetGrid at 0x7f129e085050>"
            ]
          },
          "metadata": {},
          "execution_count": 22
        },
        {
          "output_type": "display_data",
          "data": {
            "text/plain": [
              "<Figure size 1440x360 with 1 Axes>"
            ],
            "image/png": "[encoded data removed]"
          },
          "metadata": {
            "needs_background": "light"
          }
        }
      ],
      "source": [
        "sns.catplot('Item_Type',kind = 'count',data = train,aspect =4)"
      ]
    },
    {
      "cell_type": "code",
      "execution_count": 23,
      "metadata": {
        "colab": {
          "base_uri": "https://localhost:8080/",
          "height": 388
        },
        "id": "P1ip4tXcfpRr",
        "outputId": "e07619c8-19cf-4989-c284-e9db3cd68e66"
      },
      "outputs": [
        {
          "output_type": "execute_result",
          "data": {
            "text/plain": [
              "<seaborn.axisgrid.FacetGrid at 0x7f129e0257d0>"
            ]
          },
          "metadata": {},
          "execution_count": 23
        },
        {
          "output_type": "display_data",
          "data": {
            "text/plain": [
              "<Figure size 720x360 with 1 Axes>"
            ],
            "image/png": "[encoded data removed]"
          },
          "metadata": {
            "needs_background": "light"
          }
        }
      ],
      "source": [
        "sns.catplot('Outlet_Identifier',kind = 'count',data = train,aspect = 2)"
      ]
    },
    {
      "cell_type": "code",
      "execution_count": 25,
      "metadata": {
        "colab": {
          "base_uri": "https://localhost:8080/",
          "height": 388
        },
        "id": "B7LY9lmifpRs",
        "outputId": "7af47bdd-5e1e-4d9a-db21-b92d9a7273e1"
      },
      "outputs": [
        {
          "output_type": "execute_result",
          "data": {
            "text/plain": [
              "<seaborn.axisgrid.FacetGrid at 0x7f129df5e750>"
            ]
          },
          "metadata": {},
          "execution_count": 25
        },
        {
          "output_type": "display_data",
          "data": {
            "text/plain": [
              "<Figure size 720x360 with 1 Axes>"
            ],
            "image/png": "[encoded data removed]"
          },
          "metadata": {
            "needs_background": "light"
          }
        }
      ],
      "source": [
        "sns.catplot('Outlet_Size',kind = 'count',data = train,aspect = 2)"
      ]
    },
    {
      "cell_type": "code",
      "execution_count": 26,
      "metadata": {
        "colab": {
          "base_uri": "https://localhost:8080/",
          "height": 388
        },
        "id": "ep4sJ38efpRs",
        "outputId": "9a18f694-3032-4c83-9ab8-2f73eda19a64"
      },
      "outputs": [
        {
          "output_type": "execute_result",
          "data": {
            "text/plain": [
              "<seaborn.axisgrid.FacetGrid at 0x7f129e120e50>"
            ]
          },
          "metadata": {},
          "execution_count": 26
        },
        {
          "output_type": "display_data",
          "data": {
            "text/plain": [
              "<Figure size 1440x360 with 1 Axes>"
            ],
            "image/png": "[encoded data removed]"
          },
          "metadata": {
            "needs_background": "light"
          }
        }
      ],
      "source": [
        "sns.catplot('Outlet_Establishment_Year',kind = 'count',data = train,aspect =4)"
      ]
    },
    {
      "cell_type": "code",
      "execution_count": 27,
      "metadata": {
        "colab": {
          "base_uri": "https://localhost:8080/",
          "height": 388
        },
        "id": "l414jLSMfpRs",
        "outputId": "47cb6250-132f-45bd-dd49-7f08a00a11c6"
      },
      "outputs": [
        {
          "output_type": "execute_result",
          "data": {
            "text/plain": [
              "<seaborn.axisgrid.FacetGrid at 0x7f129e2ccb10>"
            ]
          },
          "metadata": {},
          "execution_count": 27
        },
        {
          "output_type": "display_data",
          "data": {
            "text/plain": [
              "<Figure size 1440x360 with 1 Axes>"
            ],
            "image/png": "[encoded data removed]"
          },
          "metadata": {
            "needs_background": "light"
          }
        }
      ],
      "source": [
        "sns.catplot('Outlet_Type',kind = 'count',data = train,aspect =4)"
      ]
    },
    {
      "cell_type": "markdown",
      "metadata": {
        "id": "FTzDzy8RfpRt"
      },
      "source": [
        "### Observations\n",
        "\n",
        "Lesser number of observations in the data for the outlets established in the year 1998 as compared to the other years.\n",
        "Supermarket Type 1 seems to be the most popular category of Outlet_Type.\n"
      ]
    },
    {
      "cell_type": "markdown",
      "metadata": {
        "id": "clyY9k3jfpRt"
      },
      "source": [
        "### Target Variable vs Independent Numerical Variables"
      ]
    },
    {
      "cell_type": "markdown",
      "metadata": {
        "id": "tSAPTqa1fpRt"
      },
      "source": [
        "##### After looking at every feature individually, let’s now do some bivariate analysis. Here we’ll explore the independent variables with respect to the target variable. The objective is to discover hidden relationships between the independent variable and the target variable and use those findings in missing data imputation and feature engineering in the next module.\n",
        "\n",
        "##### We will make use of scatter plots for the continuous or numeric variables and violin plots for the categorical variables.\n",
        "\n"
      ]
    },
    {
      "cell_type": "code",
      "execution_count": 28,
      "metadata": {
        "colab": {
          "base_uri": "https://localhost:8080/",
          "height": 280
        },
        "id": "wAET8N8tfpRt",
        "outputId": "a8e2a7b9-ac66-4d76-e875-e0fbfe410cbb"
      },
      "outputs": [
        {
          "output_type": "display_data",
          "data": {
            "text/plain": [
              "<Figure size 432x288 with 1 Axes>"
            ],
            "image/png": "[encoded data removed]"
          },
          "metadata": {
            "needs_background": "light"
          }
        }
      ],
      "source": [
        "sns.scatterplot(x = 'Item_Weight',y = 'Item_Outlet_Sales',data = train,alpha = 0.3);"
      ]
    },
    {
      "cell_type": "code",
      "execution_count": 29,
      "metadata": {
        "colab": {
          "base_uri": "https://localhost:8080/",
          "height": 299
        },
        "id": "7WQLt2A-fpRu",
        "outputId": "27e72ca4-e5dd-44fd-de9c-424bbfbf026a"
      },
      "outputs": [
        {
          "output_type": "execute_result",
          "data": {
            "text/plain": [
              "<matplotlib.axes._subplots.AxesSubplot at 0x7f129e467a90>"
            ]
          },
          "metadata": {},
          "execution_count": 29
        },
        {
          "output_type": "display_data",
          "data": {
            "text/plain": [
              "<Figure size 432x288 with 1 Axes>"
            ],
            "image/png": "[encoded data removed]"
          },
          "metadata": {
            "needs_background": "light"
          }
        }
      ],
      "source": [
        "sns.scatterplot(x = 'Item_Outlet_Sales',y = 'Item_Visibility',data = train,alpha = 0.3)"
      ]
    },
    {
      "cell_type": "code",
      "execution_count": 30,
      "metadata": {
        "colab": {
          "base_uri": "https://localhost:8080/",
          "height": 299
        },
        "id": "dIiutW4ffpRu",
        "outputId": "7e856173-a46d-40fb-b546-dde0a324c265"
      },
      "outputs": [
        {
          "output_type": "execute_result",
          "data": {
            "text/plain": [
              "<matplotlib.axes._subplots.AxesSubplot at 0x7f129e10ad10>"
            ]
          },
          "metadata": {},
          "execution_count": 30
        },
        {
          "output_type": "display_data",
          "data": {
            "text/plain": [
              "<Figure size 432x288 with 1 Axes>"
            ],
            "image/png": "[encoded data removed]"
          },
          "metadata": {
            "needs_background": "light"
          }
        }
      ],
      "source": [
        "sns.scatterplot(x = 'Item_MRP',y = 'Item_Outlet_Sales',data = train,alpha = 0.3)"
      ]
    },
    {
      "cell_type": "markdown",
      "metadata": {
        "id": "kaPiiiZyfpRu"
      },
      "source": [
        "### Observations\n",
        "\n",
        "Item_Outlet_Sales is spread well across the entire range of the Item_Weight without any obvious pattern.\n",
        "In Item_Visibility vs Item_Outlet_Sales, there is a string of points at Item_Visibility = 0.0 which seems strange as item visibility cannot be completely zero. We will take note of this issue and deal with it in the later stages.\n",
        "In the third plot of Item_MRP vs Item_Outlet_Sales, we can clearly see 4 segments of prices that can be used in feature engineering to create a new variable.\n"
      ]
    },
    {
      "cell_type": "markdown",
      "metadata": {
        "id": "w0F4jobDfpRv"
      },
      "source": [
        "### Target Variable vs Independent Categorical Variables"
      ]
    },
    {
      "cell_type": "markdown",
      "metadata": {
        "id": "HjmLpQbcfpRv"
      },
      "source": [
        "Now we’ll visualise the categorical variables with respect to Item_Outlet_Sales. We will try to check the distribution of the target variable across all the categories of each of the categorical variable.\n",
        "\n",
        "We could have used boxplots here, but instead we’ll use the violin plots as they show the full distribution of the data. The width of a violin plot at a particular level indicates the concentration or density of data at that level. The height of a violin tells us about the range of the target variable values."
      ]
    },
    {
      "cell_type": "code",
      "execution_count": 31,
      "metadata": {
        "scrolled": false,
        "colab": {
          "base_uri": "https://localhost:8080/",
          "height": 388
        },
        "id": "_rhn6UKXfpRv",
        "outputId": "1d7631b8-0012-4561-b4ff-66bc573cfa67"
      },
      "outputs": [
        {
          "output_type": "execute_result",
          "data": {
            "text/plain": [
              "<seaborn.axisgrid.FacetGrid at 0x7f129e5e1410>"
            ]
          },
          "metadata": {},
          "execution_count": 31
        },
        {
          "output_type": "display_data",
          "data": {
            "text/plain": [
              "<Figure size 1440x360 with 1 Axes>"
            ],
            "image/png": "[encoded data removed]"
          },
          "metadata": {
            "needs_background": "light"
          }
        }
      ],
      "source": [
        "sns.catplot(x = 'Item_Type',y = 'Item_Outlet_Sales',kind = 'violin',data = train,aspect=4)"
      ]
    },
    {
      "cell_type": "code",
      "execution_count": 32,
      "metadata": {
        "colab": {
          "base_uri": "https://localhost:8080/"
        },
        "id": "7F7-J4iRfpRw",
        "outputId": "a2366947-1c1e-4d0a-f815-ef0713c81e37"
      },
      "outputs": [
        {
          "output_type": "stream",
          "name": "stdout",
          "text": [
            "<class 'pandas.core.frame.DataFrame'>\n",
            "RangeIndex: 8523 entries, 0 to 8522\n",
            "Data columns (total 13 columns):\n",
            " #   Column                     Non-Null Count  Dtype  \n",
            "---  ------                     --------------  -----  \n",
            " 0   Item_Identifier            8523 non-null   object \n",
            " 1   Item_Weight                7060 non-null   float64\n",
            " 2   Item_Fat_Content           8523 non-null   object \n",
            " 3   Item_Visibility            8523 non-null   float64\n",
            " 4   Item_Type                  8523 non-null   object \n",
            " 5   Item_MRP                   8523 non-null   float64\n",
            " 6   Outlet_Identifier          8523 non-null   object \n",
            " 7   Outlet_Establishment_Year  8523 non-null   int64  \n",
            " 8   Outlet_Size                6113 non-null   object \n",
            " 9   Outlet_Location_Type       8523 non-null   object \n",
            " 10  Outlet_Type                8523 non-null   object \n",
            " 11  Item_Outlet_Sales          8523 non-null   float64\n",
            " 12  source                     8523 non-null   object \n",
            "dtypes: float64(4), int64(1), object(8)\n",
            "memory usage: 865.7+ KB\n"
          ]
        }
      ],
      "source": [
        "train.info()"
      ]
    },
    {
      "cell_type": "code",
      "execution_count": 33,
      "metadata": {
        "colab": {
          "base_uri": "https://localhost:8080/",
          "height": 299
        },
        "id": "VHtDepF7fpRw",
        "outputId": "0278e4ee-0eeb-409a-8b54-7f0f3195d5a7"
      },
      "outputs": [
        {
          "output_type": "execute_result",
          "data": {
            "text/plain": [
              "<matplotlib.axes._subplots.AxesSubplot at 0x7f129de5d5d0>"
            ]
          },
          "metadata": {},
          "execution_count": 33
        },
        {
          "output_type": "display_data",
          "data": {
            "text/plain": [
              "<Figure size 432x288 with 1 Axes>"
            ],
            "image/png": "[encoded data removed]"
          },
          "metadata": {
            "needs_background": "light"
          }
        }
      ],
      "source": [
        "sns.violinplot(x = 'Item_Fat_Content',y = 'Item_Outlet_Sales',data = train)"
      ]
    },
    {
      "cell_type": "code",
      "execution_count": 35,
      "metadata": {
        "colab": {
          "base_uri": "https://localhost:8080/",
          "height": 388
        },
        "id": "C2kb3VmpfpRw",
        "outputId": "1b642e50-593b-48c4-d28c-3434844285a1"
      },
      "outputs": [
        {
          "output_type": "execute_result",
          "data": {
            "text/plain": [
              "<seaborn.axisgrid.FacetGrid at 0x7f129ddbea50>"
            ]
          },
          "metadata": {},
          "execution_count": 35
        },
        {
          "output_type": "display_data",
          "data": {
            "text/plain": [
              "<Figure size 1440x360 with 1 Axes>"
            ],
            "image/png": "[encoded data removed]"
          },
          "metadata": {
            "needs_background": "light"
          }
        }
      ],
      "source": [
        "sns.catplot('Outlet_Identifier','Item_Outlet_Sales',kind = 'violin',data = train,aspect = 4)"
      ]
    },
    {
      "cell_type": "markdown",
      "metadata": {
        "id": "TA6mdejKfpRx"
      },
      "source": [
        "### Observations\n",
        "\n",
        "<ul><li>Distribution of Item_Outlet_Sales across the categories of Item_Type is not very distinct and same is the case with Item_Fat_Content.</li>\n",
        "<li>The distribution for OUT010 and OUT019 categories of Outlet_Identifier are quite similar and very much different from the rest of the categories of Outlet_Identifier.</li></ul>"
      ]
    },
    {
      "cell_type": "markdown",
      "metadata": {
        "id": "YFdbRbfkfpRx"
      },
      "source": [
        "In the univariate analysis let’s check the distribution of the target variable across Outlet_Size."
      ]
    },
    {
      "cell_type": "code",
      "execution_count": 36,
      "metadata": {
        "colab": {
          "base_uri": "https://localhost:8080/",
          "height": 299
        },
        "id": "1fouAAY0fpRx",
        "outputId": "050b0919-ce26-4c7d-8d2c-b6ad24585fce"
      },
      "outputs": [
        {
          "output_type": "execute_result",
          "data": {
            "text/plain": [
              "<matplotlib.axes._subplots.AxesSubplot at 0x7f129c3ea790>"
            ]
          },
          "metadata": {},
          "execution_count": 36
        },
        {
          "output_type": "display_data",
          "data": {
            "text/plain": [
              "<Figure size 432x288 with 1 Axes>"
            ],
            "image/png": "[encoded data removed]"
          },
          "metadata": {
            "needs_background": "light"
          }
        }
      ],
      "source": [
        "sns.violinplot('Outlet_Size','Item_Outlet_Sales',data = train)"
      ]
    },
    {
      "cell_type": "markdown",
      "metadata": {
        "id": "LdTC7x8bfpRx"
      },
      "source": [
        "Let’s examine the remaining variables."
      ]
    },
    {
      "cell_type": "code",
      "execution_count": 37,
      "metadata": {
        "colab": {
          "base_uri": "https://localhost:8080/",
          "height": 299
        },
        "id": "VlwOS1Z0fpRy",
        "outputId": "79631434-6969-441c-9775-c1ecf34a19ed"
      },
      "outputs": [
        {
          "output_type": "execute_result",
          "data": {
            "text/plain": [
              "<matplotlib.axes._subplots.AxesSubplot at 0x7f129c36a890>"
            ]
          },
          "metadata": {},
          "execution_count": 37
        },
        {
          "output_type": "display_data",
          "data": {
            "text/plain": [
              "<Figure size 432x288 with 1 Axes>"
            ],
            "image/png": "[encoded data removed]"
          },
          "metadata": {
            "needs_background": "light"
          }
        }
      ],
      "source": [
        "sns.violinplot('Outlet_Location_Type','Item_Outlet_Sales',data = train)"
      ]
    },
    {
      "cell_type": "code",
      "execution_count": 38,
      "metadata": {
        "colab": {
          "base_uri": "https://localhost:8080/",
          "height": 299
        },
        "id": "ppWt6jqdfpRy",
        "outputId": "1a04bb59-1b96-467c-a052-5cb24849ed1d"
      },
      "outputs": [
        {
          "output_type": "execute_result",
          "data": {
            "text/plain": [
              "<matplotlib.axes._subplots.AxesSubplot at 0x7f129c2bc410>"
            ]
          },
          "metadata": {},
          "execution_count": 38
        },
        {
          "output_type": "display_data",
          "data": {
            "text/plain": [
              "<Figure size 432x288 with 1 Axes>"
            ],
            "image/png": "[encoded data removed]"
          },
          "metadata": {
            "needs_background": "light"
          }
        }
      ],
      "source": [
        "sns.violinplot('Outlet_Type','Item_Outlet_Sales',data = train)"
      ]
    },
    {
      "cell_type": "markdown",
      "metadata": {
        "id": "TGmHAwesfpRy"
      },
      "source": [
        "### Observations\n",
        "\n",
        "<ul><li>Tier 1 and Tier 3 locations of Outlet_Location_Type look similar.</li>\n",
        "<li>In the Outlet_Type plot, Grocery Store has most of its data points around the lower sales values as compared to the other categories.</li></ul>\n",
        "\n",
        "\n",
        "These are the kind of insights that we can extract by visualizing our data. Hence, data visualization should be an important part of any kind data analysis.\n",
        "\n",
        "\n"
      ]
    },
    {
      "cell_type": "markdown",
      "metadata": {
        "id": "g9_nJFjufpRy"
      },
      "source": [
        "### Missing Data Treatment\n",
        "\n",
        "Missing data can have a severe impact on building predictive models because the missing values might be contain some vital information which could help in making better predictions. So, it becomes imperative to carry out missing data imputation. There are different methods to treat missing values based on the problem and the data. Some of the common techniques are as follows:"
      ]
    },
    {
      "cell_type": "code",
      "execution_count": 39,
      "metadata": {
        "colab": {
          "base_uri": "https://localhost:8080/"
        },
        "id": "gLcLb1A2fpRz",
        "outputId": "9bf18fe2-c54e-4b19-f200-7627ce52f405"
      },
      "outputs": [
        {
          "output_type": "execute_result",
          "data": {
            "text/plain": [
              "Item_Identifier                 0\n",
              "Item_Weight                  1463\n",
              "Item_Fat_Content                0\n",
              "Item_Visibility                 0\n",
              "Item_Type                       0\n",
              "Item_MRP                        0\n",
              "Outlet_Identifier               0\n",
              "Outlet_Establishment_Year       0\n",
              "Outlet_Size                  2410\n",
              "Outlet_Location_Type            0\n",
              "Outlet_Type                     0\n",
              "Item_Outlet_Sales               0\n",
              "source                          0\n",
              "dtype: int64"
            ]
          },
          "metadata": {},
          "execution_count": 39
        }
      ],
      "source": [
        "train.isna().sum()"
      ]
    },
    {
      "cell_type": "markdown",
      "metadata": {
        "id": "-iab9YdsfpRz"
      },
      "source": [
        "### Imputing Missing Value\n",
        "As you can see above, we have missing values in Item_Weight and Outlet_Size. We’ll now impute Item_Weight with mean weight."
      ]
    },
    {
      "cell_type": "code",
      "execution_count": 40,
      "metadata": {
        "id": "QRxgCchnfpR0"
      },
      "outputs": [],
      "source": [
        "from sklearn.preprocessing import LabelEncoder\n",
        "l_enc  = LabelEncoder()\n",
        "a = l_enc.fit_transform(train['Item_Identifier'])"
      ]
    },
    {
      "cell_type": "code",
      "execution_count": 41,
      "metadata": {
        "colab": {
          "base_uri": "https://localhost:8080/"
        },
        "id": "5vdXE6rVfpR0",
        "outputId": "3c6471d6-f713-4404-8a04-30e4dca5ecd1"
      },
      "outputs": [
        {
          "output_type": "execute_result",
          "data": {
            "text/plain": [
              "array([ 156,    8,  662, ..., 1357,  681,   50])"
            ]
          },
          "metadata": {},
          "execution_count": 41
        }
      ],
      "source": [
        "a"
      ]
    },
    {
      "cell_type": "code",
      "execution_count": 42,
      "metadata": {
        "id": "lyVBJkuAfpR0"
      },
      "outputs": [],
      "source": [
        "train['Item_Weight'].fillna(a.mean(),inplace = True)"
      ]
    },
    {
      "cell_type": "code",
      "execution_count": 43,
      "metadata": {
        "colab": {
          "base_uri": "https://localhost:8080/"
        },
        "id": "n4oOTabXfpR0",
        "outputId": "724a1045-516e-4446-e78a-e52ec5368923"
      },
      "outputs": [
        {
          "output_type": "execute_result",
          "data": {
            "text/plain": [
              "0"
            ]
          },
          "metadata": {},
          "execution_count": 43
        }
      ],
      "source": [
        "train.Item_Weight.isna().sum()"
      ]
    },
    {
      "cell_type": "code",
      "execution_count": 44,
      "metadata": {
        "id": "GzVTuIiVfpR1"
      },
      "outputs": [],
      "source": [
        "train['Outlet_Size'].fillna('Small',inplace  = True)"
      ]
    },
    {
      "cell_type": "code",
      "execution_count": 45,
      "metadata": {
        "colab": {
          "base_uri": "https://localhost:8080/"
        },
        "id": "a2UwMUewfpR1",
        "outputId": "ce3b6a92-016b-4489-b62c-d2cd840847cd"
      },
      "outputs": [
        {
          "output_type": "execute_result",
          "data": {
            "text/plain": [
              "0"
            ]
          },
          "metadata": {},
          "execution_count": 45
        }
      ],
      "source": [
        "train['Outlet_Size'].isna().sum()"
      ]
    },
    {
      "cell_type": "markdown",
      "metadata": {
        "id": "zoNCXMGDfpR1"
      },
      "source": [
        "0 missing values! It means we have successfully imputed the missing data in the feature."
      ]
    },
    {
      "cell_type": "markdown",
      "metadata": {
        "id": "dnb0cl2efpR1"
      },
      "source": [
        "### Replacing 0’s in Item_Visibility variable\n",
        "\n",
        "\n",
        "Similarly, zeroes in Item_Visibility variable can be replaced with Item_Visibility wise mean values. It can be visualized in the plot below."
      ]
    },
    {
      "cell_type": "code",
      "execution_count": 46,
      "metadata": {
        "colab": {
          "base_uri": "https://localhost:8080/",
          "height": 284
        },
        "id": "YKAlfWixfpR2",
        "outputId": "daa8095a-f430-4014-9c41-2ba0b307614a"
      },
      "outputs": [
        {
          "output_type": "execute_result",
          "data": {
            "text/plain": [
              "<matplotlib.axes._subplots.AxesSubplot at 0x7f129bafe050>"
            ]
          },
          "metadata": {},
          "execution_count": 46
        },
        {
          "output_type": "display_data",
          "data": {
            "text/plain": [
              "<Figure size 432x288 with 1 Axes>"
            ],
            "image/png": "[encoded data removed]"
          },
          "metadata": {
            "needs_background": "light"
          }
        }
      ],
      "source": [
        "train['Item_Visibility'].plot(kind = 'hist',bins = 100)"
      ]
    },
    {
      "cell_type": "markdown",
      "metadata": {
        "id": "VEYcJ-URfpR2"
      },
      "source": [
        "Let’s replace the zeroes.\n"
      ]
    },
    {
      "cell_type": "code",
      "execution_count": 47,
      "metadata": {
        "colab": {
          "base_uri": "https://localhost:8080/"
        },
        "id": "jrlJTDD8fpR2",
        "outputId": "9befdf55-a94b-47f9-dd3e-8168feb53262"
      },
      "outputs": [
        {
          "output_type": "execute_result",
          "data": {
            "text/plain": [
              "(8523, 13)"
            ]
          },
          "metadata": {},
          "execution_count": 47
        }
      ],
      "source": [
        "train.shape"
      ]
    },
    {
      "cell_type": "code",
      "execution_count": 48,
      "metadata": {
        "id": "vEcd9jwxfpR3"
      },
      "outputs": [],
      "source": [
        "a= train[train['Item_Visibility']!=0]['Item_Visibility'].mean()"
      ]
    },
    {
      "cell_type": "code",
      "source": [
        "a"
      ],
      "metadata": {
        "colab": {
          "base_uri": "https://localhost:8080/"
        },
        "id": "tMHnqePtgrUr",
        "outputId": "9626bddf-fc88-48bb-9004-af83eaa4e8af"
      },
      "execution_count": 49,
      "outputs": [
        {
          "output_type": "execute_result",
          "data": {
            "text/plain": [
              "0.07048184085069402"
            ]
          },
          "metadata": {},
          "execution_count": 49
        }
      ]
    },
    {
      "cell_type": "code",
      "execution_count": 50,
      "metadata": {
        "id": "PAKqsUmhfpR3"
      },
      "outputs": [],
      "source": [
        "train['Item_Visibility'] = train['Item_Visibility'].replace(0.00,a)"
      ]
    },
    {
      "cell_type": "code",
      "execution_count": 51,
      "metadata": {
        "colab": {
          "base_uri": "https://localhost:8080/",
          "height": 284
        },
        "id": "PSVbS_s4fpR3",
        "outputId": "6f254101-16f3-4e92-938e-bc5497bc58ee"
      },
      "outputs": [
        {
          "output_type": "execute_result",
          "data": {
            "text/plain": [
              "<matplotlib.axes._subplots.AxesSubplot at 0x7f129b8f2550>"
            ]
          },
          "metadata": {},
          "execution_count": 51
        },
        {
          "output_type": "display_data",
          "data": {
            "text/plain": [
              "<Figure size 432x288 with 1 Axes>"
            ],
            "image/png": "[encoded data removed]"
          },
          "metadata": {
            "needs_background": "light"
          }
        }
      ],
      "source": [
        "train['Item_Visibility'].plot(kind = 'hist',bins = 100)"
      ]
    },
    {
      "cell_type": "code",
      "source": [
        "train[\"Item_Type\"]"
      ],
      "metadata": {
        "colab": {
          "base_uri": "https://localhost:8080/"
        },
        "id": "LqyNHdnuh3po",
        "outputId": "e7d3d7a7-09d6-47ae-f907-2ba19054ea07"
      },
      "execution_count": 53,
      "outputs": [
        {
          "output_type": "execute_result",
          "data": {
            "text/plain": [
              "0                       Dairy\n",
              "1                 Soft Drinks\n",
              "2                        Meat\n",
              "3       Fruits and Vegetables\n",
              "4                   Household\n",
              "                ...          \n",
              "8518              Snack Foods\n",
              "8519             Baking Goods\n",
              "8520       Health and Hygiene\n",
              "8521              Snack Foods\n",
              "8522              Soft Drinks\n",
              "Name: Item_Type, Length: 8523, dtype: object"
            ]
          },
          "metadata": {},
          "execution_count": 53
        }
      ]
    },
    {
      "cell_type": "markdown",
      "metadata": {
        "id": "1AbtsiW0fpR3"
      },
      "source": [
        "### Feature Engineering"
      ]
    },
    {
      "cell_type": "markdown",
      "metadata": {
        "id": "e_9RNTOVfpR4"
      },
      "source": [
        "Most of the times, the given features in a dataset are not sufficient to give satisfactory predictions. In such cases, we have to create new features which might help in improving the model’s performance. Let’s try to create some new features for our dataset.\n",
        "\n",
        "In this section we will create the following new features:\n",
        "\n",
        "<ul><li>Item_Type_new: Broader categories for the variable Item_Type.</li>\n",
        "<li>Item_category: Categorical variable derived from Item_Identifier.</li>\n",
        "<li>Outlet_Years: Years of operation for outlets.</li>\n",
        "<li>price_per_unit_wt: Item_MRP/Item_Weight</li>\n",
        "<li>Item_MRP_clusters: Binned feature for Item_MRP.</li></ul>\n",
        "\n",
        "\n",
        "We can have a look at the Item_Type variable and classify the c\n",
        "ategories into perishable and non_perishable as per our understanding and make it into a new feature."
      ]
    },
    {
      "cell_type": "code",
      "execution_count": 52,
      "metadata": {
        "id": "2tfAlEwQfpR4"
      },
      "outputs": [],
      "source": [
        "perishable = [\"Breads\", \"Breakfast\", \"Dairy\", \"Fruits and Vegetables\", \"Meat\", \"Seafood\"]\n",
        "non_perishable = [\"Baking Goods\", \"Canned\", \"Frozen Foods\", \"Hard Drinks\", \"Health and Hygiene\", \"Household\", \"Soft Drinks\"]"
      ]
    },
    {
      "cell_type": "markdown",
      "metadata": {
        "id": "mRNcYZtVfpR4"
      },
      "source": [
        "create a new feature 'Item_Type_new' "
      ]
    },
    {
      "cell_type": "code",
      "execution_count": 54,
      "metadata": {
        "id": "I0zujXqGfpR4"
      },
      "outputs": [],
      "source": [
        "item_list =[] \n",
        "for i in train['Item_Type']:\n",
        "    if i in perishable:\n",
        "        item_list.append('perishable')\n",
        "    elif (i in non_perishable):\n",
        "        item_list.append('non_perishable')\n",
        "    else:\n",
        "        item_list.append('not_sure')\n",
        "        \n",
        "train['Item_Type_new'] = item_list"
      ]
    },
    {
      "cell_type": "code",
      "source": [
        "train['Item_Identifier']"
      ],
      "metadata": {
        "colab": {
          "base_uri": "https://localhost:8080/"
        },
        "id": "PSupp23qiFbl",
        "outputId": "18034159-03dc-49db-c40c-9a9b77073177"
      },
      "execution_count": 55,
      "outputs": [
        {
          "output_type": "execute_result",
          "data": {
            "text/plain": [
              "0       FDA15\n",
              "1       DRC01\n",
              "2       FDN15\n",
              "3       FDX07\n",
              "4       NCD19\n",
              "        ...  \n",
              "8518    FDF22\n",
              "8519    FDS36\n",
              "8520    NCJ29\n",
              "8521    FDN46\n",
              "8522    DRG01\n",
              "Name: Item_Identifier, Length: 8523, dtype: object"
            ]
          },
          "metadata": {},
          "execution_count": 55
        }
      ]
    },
    {
      "cell_type": "code",
      "execution_count": 56,
      "metadata": {
        "scrolled": true,
        "id": "2b-uHzJDfpR5"
      },
      "outputs": [],
      "source": [
        "train['Item_Category'] =train['Item_Identifier'].replace({'^DR[A-Z]*[0-9]*':'DR','^FD[A-Z]*[0-9]*':'FD','^NC[A-Z]*[0-9]*':'NC'},regex = True)"
      ]
    },
    {
      "cell_type": "code",
      "execution_count": 57,
      "metadata": {
        "scrolled": false,
        "colab": {
          "base_uri": "https://localhost:8080/",
          "height": 582
        },
        "id": "BxWvaqD-fpR5",
        "outputId": "9d108f44-03f8-4063-c935-4058649e8df6"
      },
      "outputs": [
        {
          "output_type": "execute_result",
          "data": {
            "text/plain": [
              "Item_Category           DR    FD   NC\n",
              "Item_Type                            \n",
              "Baking Goods             0   648    0\n",
              "Breads                   0   251    0\n",
              "Breakfast                0   110    0\n",
              "Canned                   0   649    0\n",
              "Dairy                  140   542    0\n",
              "Frozen Foods             0   856    0\n",
              "Fruits and Vegetables    0  1232    0\n",
              "Hard Drinks            214     0    0\n",
              "Health and Hygiene       0     0  520\n",
              "Household                0     0  910\n",
              "Meat                     0   425    0\n",
              "Others                   0     0  169\n",
              "Seafood                  0    64    0\n",
              "Snack Foods              0  1200    0\n",
              "Soft Drinks            445     0    0\n",
              "Starchy Foods            0   148    0"
            ],
            "text/html": [
              "\n",
              "  <div id=\"df-c5f2cc0b-4846-42ce-9f5f-8decdc76f0fb\">\n",
              "    <div class=\"colab-df-container\">\n",
              "      <div>\n",
              "<style scoped>\n",
              "    .dataframe tbody tr th:only-of-type {\n",
              "        vertical-align: middle;\n",
              "    }\n",
              "\n",
              "    .dataframe tbody tr th {\n",
              "        vertical-align: top;\n",
              "    }\n",
              "\n",
              "    .dataframe thead th {\n",
              "        text-align: right;\n",
              "    }\n",
              "</style>\n",
              "<table border=\"1\" class=\"dataframe\">\n",
              "  <thead>\n",
              "    <tr style=\"text-align: right;\">\n",
              "      <th>Item_Category</th>\n",
              "      <th>DR</th>\n",
              "      <th>FD</th>\n",
              "      <th>NC</th>\n",
              "    </tr>\n",
              "    <tr>\n",
              "      <th>Item_Type</th>\n",
              "      <th></th>\n",
              "      <th></th>\n",
              "      <th></th>\n",
              "    </tr>\n",
              "  </thead>\n",
              "  <tbody>\n",
              "    <tr>\n",
              "      <th>Baking Goods</th>\n",
              "      <td>0</td>\n",
              "      <td>648</td>\n",
              "      <td>0</td>\n",
              "    </tr>\n",
              "    <tr>\n",
              "      <th>Breads</th>\n",
              "      <td>0</td>\n",
              "      <td>251</td>\n",
              "      <td>0</td>\n",
              "    </tr>\n",
              "    <tr>\n",
              "      <th>Breakfast</th>\n",
              "      <td>0</td>\n",
              "      <td>110</td>\n",
              "      <td>0</td>\n",
              "    </tr>\n",
              "    <tr>\n",
              "      <th>Canned</th>\n",
              "      <td>0</td>\n",
              "      <td>649</td>\n",
              "      <td>0</td>\n",
              "    </tr>\n",
              "    <tr>\n",
              "      <th>Dairy</th>\n",
              "      <td>140</td>\n",
              "      <td>542</td>\n",
              "      <td>0</td>\n",
              "    </tr>\n",
              "    <tr>\n",
              "      <th>Frozen Foods</th>\n",
              "      <td>0</td>\n",
              "      <td>856</td>\n",
              "      <td>0</td>\n",
              "    </tr>\n",
              "    <tr>\n",
              "      <th>Fruits and Vegetables</th>\n",
              "      <td>0</td>\n",
              "      <td>1232</td>\n",
              "      <td>0</td>\n",
              "    </tr>\n",
              "    <tr>\n",
              "      <th>Hard Drinks</th>\n",
              "      <td>214</td>\n",
              "      <td>0</td>\n",
              "      <td>0</td>\n",
              "    </tr>\n",
              "    <tr>\n",
              "      <th>Health and Hygiene</th>\n",
              "      <td>0</td>\n",
              "      <td>0</td>\n",
              "      <td>520</td>\n",
              "    </tr>\n",
              "    <tr>\n",
              "      <th>Household</th>\n",
              "      <td>0</td>\n",
              "      <td>0</td>\n",
              "      <td>910</td>\n",
              "    </tr>\n",
              "    <tr>\n",
              "      <th>Meat</th>\n",
              "      <td>0</td>\n",
              "      <td>425</td>\n",
              "      <td>0</td>\n",
              "    </tr>\n",
              "    <tr>\n",
              "      <th>Others</th>\n",
              "      <td>0</td>\n",
              "      <td>0</td>\n",
              "      <td>169</td>\n",
              "    </tr>\n",
              "    <tr>\n",
              "      <th>Seafood</th>\n",
              "      <td>0</td>\n",
              "      <td>64</td>\n",
              "      <td>0</td>\n",
              "    </tr>\n",
              "    <tr>\n",
              "      <th>Snack Foods</th>\n",
              "      <td>0</td>\n",
              "      <td>1200</td>\n",
              "      <td>0</td>\n",
              "    </tr>\n",
              "    <tr>\n",
              "      <th>Soft Drinks</th>\n",
              "      <td>445</td>\n",
              "      <td>0</td>\n",
              "      <td>0</td>\n",
              "    </tr>\n",
              "    <tr>\n",
              "      <th>Starchy Foods</th>\n",
              "      <td>0</td>\n",
              "      <td>148</td>\n",
              "      <td>0</td>\n",
              "    </tr>\n",
              "  </tbody>\n",
              "</table>\n",
              "</div>\n",
              "      <button class=\"colab-df-convert\" onclick=\"convertToInteractive('df-c5f2cc0b-4846-42ce-9f5f-8decdc76f0fb')\"\n",
              "              title=\"Convert this dataframe to an interactive table.\"\n",
              "              style=\"display:none;\">\n",
              "        \n",
              "  <svg xmlns=\"http://www.w3.org/2000/svg\" height=\"24px\"viewBox=\"0 0 24 24\"\n",
              "       width=\"24px\">\n",
              "    <path d=\"M0 0h24v24H0V0z\" fill=\"none\"/>\n",
              "    <path d=\"M18.56 5.44l.94 2.06.94-2.06 2.06-.94-2.06-.94-.94-2.06-.94 2.06-2.06.94zm-11 1L8.5 8.5l.94-2.06 2.06-.94-2.06-.94L8.5 2.5l-.94 2.06-2.06.94zm10 10l.94 2.06.94-2.06 2.06-.94-2.06-.94-.94-2.06-.94 2.06-2.06.94z\"/><path d=\"M17.41 7.96l-1.37-1.37c-.4-.4-.92-.59-1.43-.59-.52 0-1.04.2-1.43.59L10.3 9.45l-7.72 7.72c-.78.78-.78 2.05 0 2.83L4 21.41c.39.39.9.59 1.41.59.51 0 1.02-.2 1.41-.59l7.78-7.78 2.81-2.81c.8-.78.8-2.07 0-2.86zM5.41 20L4 18.59l7.72-7.72 1.47 1.35L5.41 20z\"/>\n",
              "  </svg>\n",
              "      </button>\n",
              "      \n",
              "  <style>\n",
              "    .colab-df-container {\n",
              "      display:flex;\n",
              "      flex-wrap:wrap;\n",
              "      gap: 12px;\n",
              "    }\n",
              "\n",
              "    .colab-df-convert {\n",
              "      background-color: #E8F0FE;\n",
              "      border: none;\n",
              "      border-radius: 50%;\n",
              "      cursor: pointer;\n",
              "      display: none;\n",
              "      fill: #1967D2;\n",
              "      height: 32px;\n",
              "      padding: 0 0 0 0;\n",
              "      width: 32px;\n",
              "    }\n",
              "\n",
              "    .colab-df-convert:hover {\n",
              "      background-color: #E2EBFA;\n",
              "      box-shadow: 0px 1px 2px rgba(60, 64, 67, 0.3), 0px 1px 3px 1px rgba(60, 64, 67, 0.15);\n",
              "      fill: #174EA6;\n",
              "    }\n",
              "\n",
              "    [theme=dark] .colab-df-convert {\n",
              "      background-color: #3B4455;\n",
              "      fill: #D2E3FC;\n",
              "    }\n",
              "\n",
              "    [theme=dark] .colab-df-convert:hover {\n",
              "      background-color: #434B5C;\n",
              "      box-shadow: 0px 1px 3px 1px rgba(0, 0, 0, 0.15);\n",
              "      filter: drop-shadow(0px 1px 2px rgba(0, 0, 0, 0.3));\n",
              "      fill: #FFFFFF;\n",
              "    }\n",
              "  </style>\n",
              "\n",
              "      <script>\n",
              "        const buttonEl =\n",
              "          document.querySelector('#df-c5f2cc0b-4846-42ce-9f5f-8decdc76f0fb button.colab-df-convert');\n",
              "        buttonEl.style.display =\n",
              "          google.colab.kernel.accessAllowed ? 'block' : 'none';\n",
              "\n",
              "        async function convertToInteractive(key) {\n",
              "          const element = document.querySelector('#df-c5f2cc0b-4846-42ce-9f5f-8decdc76f0fb');\n",
              "          const dataTable =\n",
              "            await google.colab.kernel.invokeFunction('convertToInteractive',\n",
              "                                                     [key], {});\n",
              "          if (!dataTable) return;\n",
              "\n",
              "          const docLinkHtml = 'Like what you see? Visit the ' +\n",
              "            '<a target=\"_blank\" href=https://colab.research.google.com/notebooks/data_table.ipynb>data table notebook</a>'\n",
              "            + ' to learn more about interactive tables.';\n",
              "          element.innerHTML = '';\n",
              "          dataTable['output_type'] = 'display_data';\n",
              "          await google.colab.output.renderOutput(dataTable, element);\n",
              "          const docLink = document.createElement('div');\n",
              "          docLink.innerHTML = docLinkHtml;\n",
              "          element.appendChild(docLink);\n",
              "        }\n",
              "      </script>\n",
              "    </div>\n",
              "  </div>\n",
              "  "
            ]
          },
          "metadata": {},
          "execution_count": 57
        }
      ],
      "source": [
        "Food=pd.crosstab(train['Item_Type'],train['Item_Category'])\n",
        "Food"
      ]
    },
    {
      "cell_type": "markdown",
      "metadata": {
        "id": "YaNWsWfLfpR5"
      },
      "source": [
        "We will also change the values of Item_Fat_Content wherever Item_category is ‘NC’ because non-consumable items cannot have any fat content. We will also create a couple of more features — Outlet_Years (years of operation) and price_per_unit_wt (price per unit weight)."
      ]
    },
    {
      "cell_type": "code",
      "execution_count": 58,
      "metadata": {
        "id": "OkQukF5JfpR6"
      },
      "outputs": [],
      "source": [
        "train['Item_Fat_Content'][(train['Item_Category']=='NC')]='Non Edible'"
      ]
    },
    {
      "cell_type": "code",
      "execution_count": 59,
      "metadata": {
        "colab": {
          "base_uri": "https://localhost:8080/"
        },
        "id": "JbafQyJjfpR6",
        "outputId": "5e3c3e2c-fa56-4414-f908-3c851ed42ee5"
      },
      "outputs": [
        {
          "output_type": "execute_result",
          "data": {
            "text/plain": [
              "array(['Low Fat', 'Regular', 'Non Edible'], dtype=object)"
            ]
          },
          "metadata": {},
          "execution_count": 59
        }
      ],
      "source": [
        "train['Item_Fat_Content'].unique()"
      ]
    },
    {
      "cell_type": "code",
      "execution_count": 60,
      "metadata": {
        "id": "DgmfaCjqfpR6"
      },
      "outputs": [],
      "source": [
        "train['Outlet_Years'] = 2019-train['Outlet_Establishment_Year']"
      ]
    },
    {
      "cell_type": "code",
      "source": [
        "train['Outlet_Years']"
      ],
      "metadata": {
        "colab": {
          "base_uri": "https://localhost:8080/"
        },
        "id": "jrqsZ5ekipCD",
        "outputId": "458d6e72-6fc7-41c5-b633-b8f6f9981fa8"
      },
      "execution_count": 61,
      "outputs": [
        {
          "output_type": "execute_result",
          "data": {
            "text/plain": [
              "0       20\n",
              "1       10\n",
              "2       20\n",
              "3       21\n",
              "4       32\n",
              "        ..\n",
              "8518    32\n",
              "8519    17\n",
              "8520    15\n",
              "8521    10\n",
              "8522    22\n",
              "Name: Outlet_Years, Length: 8523, dtype: int64"
            ]
          },
          "metadata": {},
          "execution_count": 61
        }
      ]
    },
    {
      "cell_type": "code",
      "execution_count": 62,
      "metadata": {
        "id": "3YpkHkopfpR7"
      },
      "outputs": [],
      "source": [
        "train['Price_Per_Unit_Weight'] = train['Item_MRP']/train['Item_Weight']"
      ]
    },
    {
      "cell_type": "markdown",
      "metadata": {
        "id": "5lfuUTcpfpR7"
      },
      "source": [
        "Earlier in the Item_MRP vs Item_Outlet_Sales plot, we saw Item_MRP was spread across in 4 chunks. Now let’s assign a label to each of these chunks and use this label as a new variable."
      ]
    },
    {
      "cell_type": "code",
      "execution_count": 63,
      "metadata": {
        "colab": {
          "base_uri": "https://localhost:8080/",
          "height": 357
        },
        "id": "AK_ktYZ2fpR7",
        "outputId": "eed357dd-bc94-4c74-81cc-b0473ff326ea"
      },
      "outputs": [
        {
          "output_type": "execute_result",
          "data": {
            "text/plain": [
              "  Item_Identifier  Item_Weight Item_Fat_Content  Item_Visibility  \\\n",
              "0           FDA15         9.30          Low Fat         0.016047   \n",
              "1           DRC01         5.92          Regular         0.019278   \n",
              "2           FDN15        17.50          Low Fat         0.016760   \n",
              "3           FDX07        19.20          Regular         0.070482   \n",
              "4           NCD19         8.93       Non Edible         0.070482   \n",
              "\n",
              "               Item_Type  Item_MRP Outlet_Identifier  \\\n",
              "0                  Dairy  249.8092            OUT049   \n",
              "1            Soft Drinks   48.2692            OUT018   \n",
              "2                   Meat  141.6180            OUT049   \n",
              "3  Fruits and Vegetables  182.0950            OUT010   \n",
              "4              Household   53.8614            OUT013   \n",
              "\n",
              "   Outlet_Establishment_Year Outlet_Size Outlet_Location_Type  \\\n",
              "0                       1999      Medium               Tier 1   \n",
              "1                       2009      Medium               Tier 3   \n",
              "2                       1999      Medium               Tier 1   \n",
              "3                       1998       Small               Tier 3   \n",
              "4                       1987        High               Tier 3   \n",
              "\n",
              "         Outlet_Type  Item_Outlet_Sales source   Item_Type_new Item_Category  \\\n",
              "0  Supermarket Type1          3735.1380  train      perishable            FD   \n",
              "1  Supermarket Type2           443.4228  train  non_perishable            DR   \n",
              "2  Supermarket Type1          2097.2700  train      perishable            FD   \n",
              "3      Grocery Store           732.3800  train      perishable            FD   \n",
              "4  Supermarket Type1           994.7052  train  non_perishable            NC   \n",
              "\n",
              "   Outlet_Years  Price_Per_Unit_Weight Item_MRP_Clusters  \n",
              "0            20              26.861204               4th  \n",
              "1            10               8.153581               1st  \n",
              "2            20               8.092457               3rd  \n",
              "3            21               9.484115               3rd  \n",
              "4            32               6.031512               1st  "
            ],
            "text/html": [
              "\n",
              "  <div id=\"df-c6019c51-69e7-4a2a-8913-3a2fe5da2d96\">\n",
              "    <div class=\"colab-df-container\">\n",
              "      <div>\n",
              "<style scoped>\n",
              "    .dataframe tbody tr th:only-of-type {\n",
              "        vertical-align: middle;\n",
              "    }\n",
              "\n",
              "    .dataframe tbody tr th {\n",
              "        vertical-align: top;\n",
              "    }\n",
              "\n",
              "    .dataframe thead th {\n",
              "        text-align: right;\n",
              "    }\n",
              "</style>\n",
              "<table border=\"1\" class=\"dataframe\">\n",
              "  <thead>\n",
              "    <tr style=\"text-align: right;\">\n",
              "      <th></th>\n",
              "      <th>Item_Identifier</th>\n",
              "      <th>Item_Weight</th>\n",
              "      <th>Item_Fat_Content</th>\n",
              "      <th>Item_Visibility</th>\n",
              "      <th>Item_Type</th>\n",
              "      <th>Item_MRP</th>\n",
              "      <th>Outlet_Identifier</th>\n",
              "      <th>Outlet_Establishment_Year</th>\n",
              "      <th>Outlet_Size</th>\n",
              "      <th>Outlet_Location_Type</th>\n",
              "      <th>Outlet_Type</th>\n",
              "      <th>Item_Outlet_Sales</th>\n",
              "      <th>source</th>\n",
              "      <th>Item_Type_new</th>\n",
              "      <th>Item_Category</th>\n",
              "      <th>Outlet_Years</th>\n",
              "      <th>Price_Per_Unit_Weight</th>\n",
              "      <th>Item_MRP_Clusters</th>\n",
              "    </tr>\n",
              "  </thead>\n",
              "  <tbody>\n",
              "    <tr>\n",
              "      <th>0</th>\n",
              "      <td>FDA15</td>\n",
              "      <td>9.30</td>\n",
              "      <td>Low Fat</td>\n",
              "      <td>0.016047</td>\n",
              "      <td>Dairy</td>\n",
              "      <td>249.8092</td>\n",
              "      <td>OUT049</td>\n",
              "      <td>1999</td>\n",
              "      <td>Medium</td>\n",
              "      <td>Tier 1</td>\n",
              "      <td>Supermarket Type1</td>\n",
              "      <td>3735.1380</td>\n",
              "      <td>train</td>\n",
              "      <td>perishable</td>\n",
              "      <td>FD</td>\n",
              "      <td>20</td>\n",
              "      <td>26.861204</td>\n",
              "      <td>4th</td>\n",
              "    </tr>\n",
              "    <tr>\n",
              "      <th>1</th>\n",
              "      <td>DRC01</td>\n",
              "      <td>5.92</td>\n",
              "      <td>Regular</td>\n",
              "      <td>0.019278</td>\n",
              "      <td>Soft Drinks</td>\n",
              "      <td>48.2692</td>\n",
              "      <td>OUT018</td>\n",
              "      <td>2009</td>\n",
              "      <td>Medium</td>\n",
              "      <td>Tier 3</td>\n",
              "      <td>Supermarket Type2</td>\n",
              "      <td>443.4228</td>\n",
              "      <td>train</td>\n",
              "      <td>non_perishable</td>\n",
              "      <td>DR</td>\n",
              "      <td>10</td>\n",
              "      <td>8.153581</td>\n",
              "      <td>1st</td>\n",
              "    </tr>\n",
              "    <tr>\n",
              "      <th>2</th>\n",
              "      <td>FDN15</td>\n",
              "      <td>17.50</td>\n",
              "      <td>Low Fat</td>\n",
              "      <td>0.016760</td>\n",
              "      <td>Meat</td>\n",
              "      <td>141.6180</td>\n",
              "      <td>OUT049</td>\n",
              "      <td>1999</td>\n",
              "      <td>Medium</td>\n",
              "      <td>Tier 1</td>\n",
              "      <td>Supermarket Type1</td>\n",
              "      <td>2097.2700</td>\n",
              "      <td>train</td>\n",
              "      <td>perishable</td>\n",
              "      <td>FD</td>\n",
              "      <td>20</td>\n",
              "      <td>8.092457</td>\n",
              "      <td>3rd</td>\n",
              "    </tr>\n",
              "    <tr>\n",
              "      <th>3</th>\n",
              "      <td>FDX07</td>\n",
              "      <td>19.20</td>\n",
              "      <td>Regular</td>\n",
              "      <td>0.070482</td>\n",
              "      <td>Fruits and Vegetables</td>\n",
              "      <td>182.0950</td>\n",
              "      <td>OUT010</td>\n",
              "      <td>1998</td>\n",
              "      <td>Small</td>\n",
              "      <td>Tier 3</td>\n",
              "      <td>Grocery Store</td>\n",
              "      <td>732.3800</td>\n",
              "      <td>train</td>\n",
              "      <td>perishable</td>\n",
              "      <td>FD</td>\n",
              "      <td>21</td>\n",
              "      <td>9.484115</td>\n",
              "      <td>3rd</td>\n",
              "    </tr>\n",
              "    <tr>\n",
              "      <th>4</th>\n",
              "      <td>NCD19</td>\n",
              "      <td>8.93</td>\n",
              "      <td>Non Edible</td>\n",
              "      <td>0.070482</td>\n",
              "      <td>Household</td>\n",
              "      <td>53.8614</td>\n",
              "      <td>OUT013</td>\n",
              "      <td>1987</td>\n",
              "      <td>High</td>\n",
              "      <td>Tier 3</td>\n",
              "      <td>Supermarket Type1</td>\n",
              "      <td>994.7052</td>\n",
              "      <td>train</td>\n",
              "      <td>non_perishable</td>\n",
              "      <td>NC</td>\n",
              "      <td>32</td>\n",
              "      <td>6.031512</td>\n",
              "      <td>1st</td>\n",
              "    </tr>\n",
              "  </tbody>\n",
              "</table>\n",
              "</div>\n",
              "      <button class=\"colab-df-convert\" onclick=\"convertToInteractive('df-c6019c51-69e7-4a2a-8913-3a2fe5da2d96')\"\n",
              "              title=\"Convert this dataframe to an interactive table.\"\n",
              "              style=\"display:none;\">\n",
              "        \n",
              "  <svg xmlns=\"http://www.w3.org/2000/svg\" height=\"24px\"viewBox=\"0 0 24 24\"\n",
              "       width=\"24px\">\n",
              "    <path d=\"M0 0h24v24H0V0z\" fill=\"none\"/>\n",
              "    <path d=\"M18.56 5.44l.94 2.06.94-2.06 2.06-.94-2.06-.94-.94-2.06-.94 2.06-2.06.94zm-11 1L8.5 8.5l.94-2.06 2.06-.94-2.06-.94L8.5 2.5l-.94 2.06-2.06.94zm10 10l.94 2.06.94-2.06 2.06-.94-2.06-.94-.94-2.06-.94 2.06-2.06.94z\"/><path d=\"M17.41 7.96l-1.37-1.37c-.4-.4-.92-.59-1.43-.59-.52 0-1.04.2-1.43.59L10.3 9.45l-7.72 7.72c-.78.78-.78 2.05 0 2.83L4 21.41c.39.39.9.59 1.41.59.51 0 1.02-.2 1.41-.59l7.78-7.78 2.81-2.81c.8-.78.8-2.07 0-2.86zM5.41 20L4 18.59l7.72-7.72 1.47 1.35L5.41 20z\"/>\n",
              "  </svg>\n",
              "      </button>\n",
              "      \n",
              "  <style>\n",
              "    .colab-df-container {\n",
              "      display:flex;\n",
              "      flex-wrap:wrap;\n",
              "      gap: 12px;\n",
              "    }\n",
              "\n",
              "    .colab-df-convert {\n",
              "      background-color: #E8F0FE;\n",
              "      border: none;\n",
              "      border-radius: 50%;\n",
              "      cursor: pointer;\n",
              "      display: none;\n",
              "      fill: #1967D2;\n",
              "      height: 32px;\n",
              "      padding: 0 0 0 0;\n",
              "      width: 32px;\n",
              "    }\n",
              "\n",
              "    .colab-df-convert:hover {\n",
              "      background-color: #E2EBFA;\n",
              "      box-shadow: 0px 1px 2px rgba(60, 64, 67, 0.3), 0px 1px 3px 1px rgba(60, 64, 67, 0.15);\n",
              "      fill: #174EA6;\n",
              "    }\n",
              "\n",
              "    [theme=dark] .colab-df-convert {\n",
              "      background-color: #3B4455;\n",
              "      fill: #D2E3FC;\n",
              "    }\n",
              "\n",
              "    [theme=dark] .colab-df-convert:hover {\n",
              "      background-color: #434B5C;\n",
              "      box-shadow: 0px 1px 3px 1px rgba(0, 0, 0, 0.15);\n",
              "      filter: drop-shadow(0px 1px 2px rgba(0, 0, 0, 0.3));\n",
              "      fill: #FFFFFF;\n",
              "    }\n",
              "  </style>\n",
              "\n",
              "      <script>\n",
              "        const buttonEl =\n",
              "          document.querySelector('#df-c6019c51-69e7-4a2a-8913-3a2fe5da2d96 button.colab-df-convert');\n",
              "        buttonEl.style.display =\n",
              "          google.colab.kernel.accessAllowed ? 'block' : 'none';\n",
              "\n",
              "        async function convertToInteractive(key) {\n",
              "          const element = document.querySelector('#df-c6019c51-69e7-4a2a-8913-3a2fe5da2d96');\n",
              "          const dataTable =\n",
              "            await google.colab.kernel.invokeFunction('convertToInteractive',\n",
              "                                                     [key], {});\n",
              "          if (!dataTable) return;\n",
              "\n",
              "          const docLinkHtml = 'Like what you see? Visit the ' +\n",
              "            '<a target=\"_blank\" href=https://colab.research.google.com/notebooks/data_table.ipynb>data table notebook</a>'\n",
              "            + ' to learn more about interactive tables.';\n",
              "          element.innerHTML = '';\n",
              "          dataTable['output_type'] = 'display_data';\n",
              "          await google.colab.output.renderOutput(dataTable, element);\n",
              "          const docLink = document.createElement('div');\n",
              "          docLink.innerHTML = docLinkHtml;\n",
              "          element.appendChild(docLink);\n",
              "        }\n",
              "      </script>\n",
              "    </div>\n",
              "  </div>\n",
              "  "
            ]
          },
          "metadata": {},
          "execution_count": 63
        }
      ],
      "source": [
        "def clusters(x):\n",
        "    if x<69:\n",
        "        return '1st'\n",
        "    elif x in range(69,136):\n",
        "        return '2nd'\n",
        "    elif x in range(136,203):\n",
        "        return '3rd'\n",
        "    else:\n",
        "        return '4th'\n",
        "train['Item_MRP_Clusters'] = train['Item_MRP'].astype('int').apply(clusters)\n",
        "train.head()"
      ]
    },
    {
      "cell_type": "code",
      "execution_count": 64,
      "metadata": {
        "colab": {
          "base_uri": "https://localhost:8080/"
        },
        "id": "oDUJrserfpR7",
        "outputId": "66319af5-218d-44b5-8892-fa99c7efe01d"
      },
      "outputs": [
        {
          "output_type": "execute_result",
          "data": {
            "text/plain": [
              "array(['4th', '1st', '3rd', '2nd'], dtype=object)"
            ]
          },
          "metadata": {},
          "execution_count": 64
        }
      ],
      "source": [
        "train['Item_MRP_Clusters'].unique()"
      ]
    },
    {
      "cell_type": "markdown",
      "metadata": {
        "id": "3GJD-MZ-fpR8"
      },
      "source": [
        "### Encoding Categorical Variables"
      ]
    },
    {
      "cell_type": "markdown",
      "metadata": {
        "id": "sC9it55pfpR8"
      },
      "source": [
        "Most of the machine learning algorithms produce better result with numerical variables only. So, it is essential to treat the categorical variables present in the data. One thing that can be done is to completely remove the categorical variables, but that would lead to enormous loss of information. Fortunately we have smarter techniques to deal with the categorical variables.\n",
        "\n",
        "In this stage, we will convert our categorical variables into numerical ones. We will use 2 techniques — Label Encoding and One Hot Encoding.\n",
        "\n",
        "<ul><b>1). Label encoding </b>simply means converting each category in a variable to a number. It is more suitable for ordinal variables — categorical variables with some order.</ul>\n",
        "\n",
        "<ul><b>2). In One hot encoding</b>, each category of a categorical variable is converted into a new binary column (1/0).</ul>\n",
        "\n"
      ]
    },
    {
      "cell_type": "markdown",
      "metadata": {
        "id": "sDmsNZ_RfpR8"
      },
      "source": [
        "### Label encoding for the categorical variables\n",
        "\n",
        "We will label encode Outlet_Size and Outlet_Location_Type as these are ordinal variables."
      ]
    },
    {
      "cell_type": "code",
      "execution_count": 65,
      "metadata": {
        "id": "VFa_P9LAfpR9"
      },
      "outputs": [],
      "source": [
        "from sklearn.preprocessing import LabelEncoder"
      ]
    },
    {
      "cell_type": "code",
      "execution_count": 66,
      "metadata": {
        "scrolled": true,
        "id": "8zHEqiH8fpR9"
      },
      "outputs": [],
      "source": [
        "# a = ['Outlet_Size','Outlet_Location_Type']\n",
        "le = LabelEncoder()\n",
        "train['Outlet_Size']= le.fit_transform(train['Outlet_Size'])\n",
        "train['Outlet_Location_Type'] = le.fit_transform(train['Outlet_Location_Type'])\n",
        "train['Item_Fat_Content'] = le.fit_transform(train['Item_Fat_Content'])\n",
        "train['Item_MRP_Clusters'] = le.fit_transform(train['Item_MRP_Clusters'])"
      ]
    },
    {
      "cell_type": "markdown",
      "metadata": {
        "id": "MX-epv49fpR9"
      },
      "source": [
        "### One hot encoding for the categorical variable"
      ]
    },
    {
      "cell_type": "code",
      "execution_count": 67,
      "metadata": {
        "colab": {
          "base_uri": "https://localhost:8080/"
        },
        "id": "mAjpv1vDfpR9",
        "outputId": "a7665dbd-0f75-4c08-b8c2-ab67529207ce"
      },
      "outputs": [
        {
          "output_type": "stream",
          "name": "stdout",
          "text": [
            "<class 'pandas.core.frame.DataFrame'>\n",
            "RangeIndex: 8523 entries, 0 to 8522\n",
            "Data columns (total 18 columns):\n",
            " #   Column                     Non-Null Count  Dtype  \n",
            "---  ------                     --------------  -----  \n",
            " 0   Item_Identifier            8523 non-null   object \n",
            " 1   Item_Weight                8523 non-null   float64\n",
            " 2   Item_Fat_Content           8523 non-null   int64  \n",
            " 3   Item_Visibility            8523 non-null   float64\n",
            " 4   Item_Type                  8523 non-null   object \n",
            " 5   Item_MRP                   8523 non-null   float64\n",
            " 6   Outlet_Identifier          8523 non-null   object \n",
            " 7   Outlet_Establishment_Year  8523 non-null   int64  \n",
            " 8   Outlet_Size                8523 non-null   int64  \n",
            " 9   Outlet_Location_Type       8523 non-null   int64  \n",
            " 10  Outlet_Type                8523 non-null   object \n",
            " 11  Item_Outlet_Sales          8523 non-null   float64\n",
            " 12  source                     8523 non-null   object \n",
            " 13  Item_Type_new              8523 non-null   object \n",
            " 14  Item_Category              8523 non-null   object \n",
            " 15  Outlet_Years               8523 non-null   int64  \n",
            " 16  Price_Per_Unit_Weight      8523 non-null   float64\n",
            " 17  Item_MRP_Clusters          8523 non-null   int64  \n",
            "dtypes: float64(5), int64(6), object(7)\n",
            "memory usage: 1.2+ MB\n"
          ]
        }
      ],
      "source": [
        "train.info()"
      ]
    },
    {
      "cell_type": "code",
      "source": [
        "train"
      ],
      "metadata": {
        "colab": {
          "base_uri": "https://localhost:8080/",
          "height": 505
        },
        "id": "c3tT39YepaFu",
        "outputId": "a28fa3e8-cde7-4a97-c9b7-a75275ef79d6"
      },
      "execution_count": 79,
      "outputs": [
        {
          "output_type": "execute_result",
          "data": {
            "text/plain": [
              "      Item_Weight  Item_Fat_Content  Item_Visibility  Item_MRP  \\\n",
              "0           9.300                 0         0.016047  249.8092   \n",
              "1           5.920                 2         0.019278   48.2692   \n",
              "2          17.500                 0         0.016760  141.6180   \n",
              "3          19.200                 2         0.070482  182.0950   \n",
              "4           8.930                 1         0.070482   53.8614   \n",
              "...           ...               ...              ...       ...   \n",
              "8518        6.865                 0         0.056783  214.5218   \n",
              "8519        8.380                 2         0.046982  108.1570   \n",
              "8520       10.600                 1         0.035186   85.1224   \n",
              "8521        7.210                 2         0.145221  103.1332   \n",
              "8522       14.800                 0         0.044878   75.4670   \n",
              "\n",
              "      Outlet_Establishment_Year  Outlet_Size  Outlet_Location_Type  \\\n",
              "0                          1999            1                     0   \n",
              "1                          2009            1                     2   \n",
              "2                          1999            1                     0   \n",
              "3                          1998            2                     2   \n",
              "4                          1987            0                     2   \n",
              "...                         ...          ...                   ...   \n",
              "8518                       1987            0                     2   \n",
              "8519                       2002            2                     1   \n",
              "8520                       2004            2                     1   \n",
              "8521                       2009            1                     2   \n",
              "8522                       1997            2                     0   \n",
              "\n",
              "      Item_Outlet_Sales  Outlet_Years  Price_Per_Unit_Weight  ...  \\\n",
              "0             3735.1380            20              26.861204  ...   \n",
              "1              443.4228            10               8.153581  ...   \n",
              "2             2097.2700            20               8.092457  ...   \n",
              "3              732.3800            21               9.484115  ...   \n",
              "4              994.7052            32               6.031512  ...   \n",
              "...                 ...           ...                    ...  ...   \n",
              "8518          2778.3834            32              31.248623  ...   \n",
              "8519           549.2850            17              12.906563  ...   \n",
              "8520          1193.1136            15               8.030415  ...   \n",
              "8521          1845.5976            10              14.304189  ...   \n",
              "8522           765.6700            22               5.099122  ...   \n",
              "\n",
              "      Outlet_Type_Grocery Store  Outlet_Type_Supermarket Type1  \\\n",
              "0                             0                              1   \n",
              "1                             0                              0   \n",
              "2                             0                              1   \n",
              "3                             1                              0   \n",
              "4                             0                              1   \n",
              "...                         ...                            ...   \n",
              "8518                          0                              1   \n",
              "8519                          0                              1   \n",
              "8520                          0                              1   \n",
              "8521                          0                              0   \n",
              "8522                          0                              1   \n",
              "\n",
              "      Outlet_Type_Supermarket Type2  Outlet_Type_Supermarket Type3  \\\n",
              "0                                 0                              0   \n",
              "1                                 1                              0   \n",
              "2                                 0                              0   \n",
              "3                                 0                              0   \n",
              "4                                 0                              0   \n",
              "...                             ...                            ...   \n",
              "8518                              0                              0   \n",
              "8519                              0                              0   \n",
              "8520                              0                              0   \n",
              "8521                              1                              0   \n",
              "8522                              0                              0   \n",
              "\n",
              "      Item_Type_new_non_perishable  Item_Type_new_not_sure  \\\n",
              "0                                0                       0   \n",
              "1                                1                       0   \n",
              "2                                0                       0   \n",
              "3                                0                       0   \n",
              "4                                1                       0   \n",
              "...                            ...                     ...   \n",
              "8518                             0                       1   \n",
              "8519                             1                       0   \n",
              "8520                             1                       0   \n",
              "8521                             0                       1   \n",
              "8522                             1                       0   \n",
              "\n",
              "      Item_Type_new_perishable  Item_Category_DR  Item_Category_FD  \\\n",
              "0                            1                 0                 1   \n",
              "1                            0                 1                 0   \n",
              "2                            1                 0                 1   \n",
              "3                            1                 0                 1   \n",
              "4                            0                 0                 0   \n",
              "...                        ...               ...               ...   \n",
              "8518                         0                 0                 1   \n",
              "8519                         0                 0                 1   \n",
              "8520                         0                 0                 0   \n",
              "8521                         0                 0                 1   \n",
              "8522                         0                 1                 0   \n",
              "\n",
              "      Item_Category_NC  \n",
              "0                    0  \n",
              "1                    0  \n",
              "2                    0  \n",
              "3                    0  \n",
              "4                    1  \n",
              "...                ...  \n",
              "8518                 0  \n",
              "8519                 0  \n",
              "8520                 1  \n",
              "8521                 0  \n",
              "8522                 0  \n",
              "\n",
              "[8523 rows x 1606 columns]"
            ],
            "text/html": [
              "\n",
              "  <div id=\"df-d5408477-fac9-4eb7-af77-7f9e689afbfc\">\n",
              "    <div class=\"colab-df-container\">\n",
              "      <div>\n",
              "<style scoped>\n",
              "    .dataframe tbody tr th:only-of-type {\n",
              "        vertical-align: middle;\n",
              "    }\n",
              "\n",
              "    .dataframe tbody tr th {\n",
              "        vertical-align: top;\n",
              "    }\n",
              "\n",
              "    .dataframe thead th {\n",
              "        text-align: right;\n",
              "    }\n",
              "</style>\n",
              "<table border=\"1\" class=\"dataframe\">\n",
              "  <thead>\n",
              "    <tr style=\"text-align: right;\">\n",
              "      <th></th>\n",
              "      <th>Item_Weight</th>\n",
              "      <th>Item_Fat_Content</th>\n",
              "      <th>Item_Visibility</th>\n",
              "      <th>Item_MRP</th>\n",
              "      <th>Outlet_Establishment_Year</th>\n",
              "      <th>Outlet_Size</th>\n",
              "      <th>Outlet_Location_Type</th>\n",
              "      <th>Item_Outlet_Sales</th>\n",
              "      <th>Outlet_Years</th>\n",
              "      <th>Price_Per_Unit_Weight</th>\n",
              "      <th>...</th>\n",
              "      <th>Outlet_Type_Grocery Store</th>\n",
              "      <th>Outlet_Type_Supermarket Type1</th>\n",
              "      <th>Outlet_Type_Supermarket Type2</th>\n",
              "      <th>Outlet_Type_Supermarket Type3</th>\n",
              "      <th>Item_Type_new_non_perishable</th>\n",
              "      <th>Item_Type_new_not_sure</th>\n",
              "      <th>Item_Type_new_perishable</th>\n",
              "      <th>Item_Category_DR</th>\n",
              "      <th>Item_Category_FD</th>\n",
              "      <th>Item_Category_NC</th>\n",
              "    </tr>\n",
              "  </thead>\n",
              "  <tbody>\n",
              "    <tr>\n",
              "      <th>0</th>\n",
              "      <td>9.300</td>\n",
              "      <td>0</td>\n",
              "      <td>0.016047</td>\n",
              "      <td>249.8092</td>\n",
              "      <td>1999</td>\n",
              "      <td>1</td>\n",
              "      <td>0</td>\n",
              "      <td>3735.1380</td>\n",
              "      <td>20</td>\n",
              "      <td>26.861204</td>\n",
              "      <td>...</td>\n",
              "      <td>0</td>\n",
              "      <td>1</td>\n",
              "      <td>0</td>\n",
              "      <td>0</td>\n",
              "      <td>0</td>\n",
              "      <td>0</td>\n",
              "      <td>1</td>\n",
              "      <td>0</td>\n",
              "      <td>1</td>\n",
              "      <td>0</td>\n",
              "    </tr>\n",
              "    <tr>\n",
              "      <th>1</th>\n",
              "      <td>5.920</td>\n",
              "      <td>2</td>\n",
              "      <td>0.019278</td>\n",
              "      <td>48.2692</td>\n",
              "      <td>2009</td>\n",
              "      <td>1</td>\n",
              "      <td>2</td>\n",
              "      <td>443.4228</td>\n",
              "      <td>10</td>\n",
              "      <td>8.153581</td>\n",
              "      <td>...</td>\n",
              "      <td>0</td>\n",
              "      <td>0</td>\n",
              "      <td>1</td>\n",
              "      <td>0</td>\n",
              "      <td>1</td>\n",
              "      <td>0</td>\n",
              "      <td>0</td>\n",
              "      <td>1</td>\n",
              "      <td>0</td>\n",
              "      <td>0</td>\n",
              "    </tr>\n",
              "    <tr>\n",
              "      <th>2</th>\n",
              "      <td>17.500</td>\n",
              "      <td>0</td>\n",
              "      <td>0.016760</td>\n",
              "      <td>141.6180</td>\n",
              "      <td>1999</td>\n",
              "      <td>1</td>\n",
              "      <td>0</td>\n",
              "      <td>2097.2700</td>\n",
              "      <td>20</td>\n",
              "      <td>8.092457</td>\n",
              "      <td>...</td>\n",
              "      <td>0</td>\n",
              "      <td>1</td>\n",
              "      <td>0</td>\n",
              "      <td>0</td>\n",
              "      <td>0</td>\n",
              "      <td>0</td>\n",
              "      <td>1</td>\n",
              "      <td>0</td>\n",
              "      <td>1</td>\n",
              "      <td>0</td>\n",
              "    </tr>\n",
              "    <tr>\n",
              "      <th>3</th>\n",
              "      <td>19.200</td>\n",
              "      <td>2</td>\n",
              "      <td>0.070482</td>\n",
              "      <td>182.0950</td>\n",
              "      <td>1998</td>\n",
              "      <td>2</td>\n",
              "      <td>2</td>\n",
              "      <td>732.3800</td>\n",
              "      <td>21</td>\n",
              "      <td>9.484115</td>\n",
              "      <td>...</td>\n",
              "      <td>1</td>\n",
              "      <td>0</td>\n",
              "      <td>0</td>\n",
              "      <td>0</td>\n",
              "      <td>0</td>\n",
              "      <td>0</td>\n",
              "      <td>1</td>\n",
              "      <td>0</td>\n",
              "      <td>1</td>\n",
              "      <td>0</td>\n",
              "    </tr>\n",
              "    <tr>\n",
              "      <th>4</th>\n",
              "      <td>8.930</td>\n",
              "      <td>1</td>\n",
              "      <td>0.070482</td>\n",
              "      <td>53.8614</td>\n",
              "      <td>1987</td>\n",
              "      <td>0</td>\n",
              "      <td>2</td>\n",
              "      <td>994.7052</td>\n",
              "      <td>32</td>\n",
              "      <td>6.031512</td>\n",
              "      <td>...</td>\n",
              "      <td>0</td>\n",
              "      <td>1</td>\n",
              "      <td>0</td>\n",
              "      <td>0</td>\n",
              "      <td>1</td>\n",
              "      <td>0</td>\n",
              "      <td>0</td>\n",
              "      <td>0</td>\n",
              "      <td>0</td>\n",
              "      <td>1</td>\n",
              "    </tr>\n",
              "    <tr>\n",
              "      <th>...</th>\n",
              "      <td>...</td>\n",
              "      <td>...</td>\n",
              "      <td>...</td>\n",
              "      <td>...</td>\n",
              "      <td>...</td>\n",
              "      <td>...</td>\n",
              "      <td>...</td>\n",
              "      <td>...</td>\n",
              "      <td>...</td>\n",
              "      <td>...</td>\n",
              "      <td>...</td>\n",
              "      <td>...</td>\n",
              "      <td>...</td>\n",
              "      <td>...</td>\n",
              "      <td>...</td>\n",
              "      <td>...</td>\n",
              "      <td>...</td>\n",
              "      <td>...</td>\n",
              "      <td>...</td>\n",
              "      <td>...</td>\n",
              "      <td>...</td>\n",
              "    </tr>\n",
              "    <tr>\n",
              "      <th>8518</th>\n",
              "      <td>6.865</td>\n",
              "      <td>0</td>\n",
              "      <td>0.056783</td>\n",
              "      <td>214.5218</td>\n",
              "      <td>1987</td>\n",
              "      <td>0</td>\n",
              "      <td>2</td>\n",
              "      <td>2778.3834</td>\n",
              "      <td>32</td>\n",
              "      <td>31.248623</td>\n",
              "      <td>...</td>\n",
              "      <td>0</td>\n",
              "      <td>1</td>\n",
              "      <td>0</td>\n",
              "      <td>0</td>\n",
              "      <td>0</td>\n",
              "      <td>1</td>\n",
              "      <td>0</td>\n",
              "      <td>0</td>\n",
              "      <td>1</td>\n",
              "      <td>0</td>\n",
              "    </tr>\n",
              "    <tr>\n",
              "      <th>8519</th>\n",
              "      <td>8.380</td>\n",
              "      <td>2</td>\n",
              "      <td>0.046982</td>\n",
              "      <td>108.1570</td>\n",
              "      <td>2002</td>\n",
              "      <td>2</td>\n",
              "      <td>1</td>\n",
              "      <td>549.2850</td>\n",
              "      <td>17</td>\n",
              "      <td>12.906563</td>\n",
              "      <td>...</td>\n",
              "      <td>0</td>\n",
              "      <td>1</td>\n",
              "      <td>0</td>\n",
              "      <td>0</td>\n",
              "      <td>1</td>\n",
              "      <td>0</td>\n",
              "      <td>0</td>\n",
              "      <td>0</td>\n",
              "      <td>1</td>\n",
              "      <td>0</td>\n",
              "    </tr>\n",
              "    <tr>\n",
              "      <th>8520</th>\n",
              "      <td>10.600</td>\n",
              "      <td>1</td>\n",
              "      <td>0.035186</td>\n",
              "      <td>85.1224</td>\n",
              "      <td>2004</td>\n",
              "      <td>2</td>\n",
              "      <td>1</td>\n",
              "      <td>1193.1136</td>\n",
              "      <td>15</td>\n",
              "      <td>8.030415</td>\n",
              "      <td>...</td>\n",
              "      <td>0</td>\n",
              "      <td>1</td>\n",
              "      <td>0</td>\n",
              "      <td>0</td>\n",
              "      <td>1</td>\n",
              "      <td>0</td>\n",
              "      <td>0</td>\n",
              "      <td>0</td>\n",
              "      <td>0</td>\n",
              "      <td>1</td>\n",
              "    </tr>\n",
              "    <tr>\n",
              "      <th>8521</th>\n",
              "      <td>7.210</td>\n",
              "      <td>2</td>\n",
              "      <td>0.145221</td>\n",
              "      <td>103.1332</td>\n",
              "      <td>2009</td>\n",
              "      <td>1</td>\n",
              "      <td>2</td>\n",
              "      <td>1845.5976</td>\n",
              "      <td>10</td>\n",
              "      <td>14.304189</td>\n",
              "      <td>...</td>\n",
              "      <td>0</td>\n",
              "      <td>0</td>\n",
              "      <td>1</td>\n",
              "      <td>0</td>\n",
              "      <td>0</td>\n",
              "      <td>1</td>\n",
              "      <td>0</td>\n",
              "      <td>0</td>\n",
              "      <td>1</td>\n",
              "      <td>0</td>\n",
              "    </tr>\n",
              "    <tr>\n",
              "      <th>8522</th>\n",
              "      <td>14.800</td>\n",
              "      <td>0</td>\n",
              "      <td>0.044878</td>\n",
              "      <td>75.4670</td>\n",
              "      <td>1997</td>\n",
              "      <td>2</td>\n",
              "      <td>0</td>\n",
              "      <td>765.6700</td>\n",
              "      <td>22</td>\n",
              "      <td>5.099122</td>\n",
              "      <td>...</td>\n",
              "      <td>0</td>\n",
              "      <td>1</td>\n",
              "      <td>0</td>\n",
              "      <td>0</td>\n",
              "      <td>1</td>\n",
              "      <td>0</td>\n",
              "      <td>0</td>\n",
              "      <td>1</td>\n",
              "      <td>0</td>\n",
              "      <td>0</td>\n",
              "    </tr>\n",
              "  </tbody>\n",
              "</table>\n",
              "<p>8523 rows × 1606 columns</p>\n",
              "</div>\n",
              "      <button class=\"colab-df-convert\" onclick=\"convertToInteractive('df-d5408477-fac9-4eb7-af77-7f9e689afbfc')\"\n",
              "              title=\"Convert this dataframe to an interactive table.\"\n",
              "              style=\"display:none;\">\n",
              "        \n",
              "  <svg xmlns=\"http://www.w3.org/2000/svg\" height=\"24px\"viewBox=\"0 0 24 24\"\n",
              "       width=\"24px\">\n",
              "    <path d=\"M0 0h24v24H0V0z\" fill=\"none\"/>\n",
              "    <path d=\"M18.56 5.44l.94 2.06.94-2.06 2.06-.94-2.06-.94-.94-2.06-.94 2.06-2.06.94zm-11 1L8.5 8.5l.94-2.06 2.06-.94-2.06-.94L8.5 2.5l-.94 2.06-2.06.94zm10 10l.94 2.06.94-2.06 2.06-.94-2.06-.94-.94-2.06-.94 2.06-2.06.94z\"/><path d=\"M17.41 7.96l-1.37-1.37c-.4-.4-.92-.59-1.43-.59-.52 0-1.04.2-1.43.59L10.3 9.45l-7.72 7.72c-.78.78-.78 2.05 0 2.83L4 21.41c.39.39.9.59 1.41.59.51 0 1.02-.2 1.41-.59l7.78-7.78 2.81-2.81c.8-.78.8-2.07 0-2.86zM5.41 20L4 18.59l7.72-7.72 1.47 1.35L5.41 20z\"/>\n",
              "  </svg>\n",
              "      </button>\n",
              "      \n",
              "  <style>\n",
              "    .colab-df-container {\n",
              "      display:flex;\n",
              "      flex-wrap:wrap;\n",
              "      gap: 12px;\n",
              "    }\n",
              "\n",
              "    .colab-df-convert {\n",
              "      background-color: #E8F0FE;\n",
              "      border: none;\n",
              "      border-radius: 50%;\n",
              "      cursor: pointer;\n",
              "      display: none;\n",
              "      fill: #1967D2;\n",
              "      height: 32px;\n",
              "      padding: 0 0 0 0;\n",
              "      width: 32px;\n",
              "    }\n",
              "\n",
              "    .colab-df-convert:hover {\n",
              "      background-color: #E2EBFA;\n",
              "      box-shadow: 0px 1px 2px rgba(60, 64, 67, 0.3), 0px 1px 3px 1px rgba(60, 64, 67, 0.15);\n",
              "      fill: #174EA6;\n",
              "    }\n",
              "\n",
              "    [theme=dark] .colab-df-convert {\n",
              "      background-color: #3B4455;\n",
              "      fill: #D2E3FC;\n",
              "    }\n",
              "\n",
              "    [theme=dark] .colab-df-convert:hover {\n",
              "      background-color: #434B5C;\n",
              "      box-shadow: 0px 1px 3px 1px rgba(0, 0, 0, 0.15);\n",
              "      filter: drop-shadow(0px 1px 2px rgba(0, 0, 0, 0.3));\n",
              "      fill: #FFFFFF;\n",
              "    }\n",
              "  </style>\n",
              "\n",
              "      <script>\n",
              "        const buttonEl =\n",
              "          document.querySelector('#df-d5408477-fac9-4eb7-af77-7f9e689afbfc button.colab-df-convert');\n",
              "        buttonEl.style.display =\n",
              "          google.colab.kernel.accessAllowed ? 'block' : 'none';\n",
              "\n",
              "        async function convertToInteractive(key) {\n",
              "          const element = document.querySelector('#df-d5408477-fac9-4eb7-af77-7f9e689afbfc');\n",
              "          const dataTable =\n",
              "            await google.colab.kernel.invokeFunction('convertToInteractive',\n",
              "                                                     [key], {});\n",
              "          if (!dataTable) return;\n",
              "\n",
              "          const docLinkHtml = 'Like what you see? Visit the ' +\n",
              "            '<a target=\"_blank\" href=https://colab.research.google.com/notebooks/data_table.ipynb>data table notebook</a>'\n",
              "            + ' to learn more about interactive tables.';\n",
              "          element.innerHTML = '';\n",
              "          dataTable['output_type'] = 'display_data';\n",
              "          await google.colab.output.renderOutput(dataTable, element);\n",
              "          const docLink = document.createElement('div');\n",
              "          docLink.innerHTML = docLinkHtml;\n",
              "          element.appendChild(docLink);\n",
              "        }\n",
              "      </script>\n",
              "    </div>\n",
              "  </div>\n",
              "  "
            ]
          },
          "metadata": {},
          "execution_count": 79
        }
      ]
    },
    {
      "cell_type": "code",
      "execution_count": 78,
      "metadata": {
        "colab": {
          "base_uri": "https://localhost:8080/",
          "height": 390
        },
        "id": "IXhJoYcXfpR-",
        "outputId": "05bccb54-14ad-43dc-9727-f2eb1f6e2d58"
      },
      "outputs": [
        {
          "output_type": "error",
          "ename": "KeyError",
          "evalue": "ignored",
          "traceback": [
            "\u001b[0;31m---------------------------------------------------------------------------\u001b[0m",
            "\u001b[0;31mKeyError\u001b[0m                                  Traceback (most recent call last)",
            "\u001b[0;32m<ipython-input-78-20d73e3e17fd>\u001b[0m in \u001b[0;36m<module>\u001b[0;34m()\u001b[0m\n\u001b[1;32m      1\u001b[0m \u001b[0;31m#train['Outlet_Identifier'].unique(),train['Item_Identifier'].unique(),train['Item_Type'].unique()\u001b[0m\u001b[0;34m\u001b[0m\u001b[0;34m\u001b[0m\u001b[0;34m\u001b[0m\u001b[0m\n\u001b[0;32m----> 2\u001b[0;31m \u001b[0ma\u001b[0m \u001b[0;34m=\u001b[0m \u001b[0mpd\u001b[0m\u001b[0;34m.\u001b[0m\u001b[0mget_dummies\u001b[0m\u001b[0;34m(\u001b[0m\u001b[0mtrain\u001b[0m \u001b[0;34m,\u001b[0m  \u001b[0mcolumns\u001b[0m\u001b[0;34m=\u001b[0m\u001b[0;34m[\u001b[0m\u001b[0;34m'Item_Identifier'\u001b[0m\u001b[0;34m,\u001b[0m\u001b[0;34m'Item_Type'\u001b[0m\u001b[0;34m,\u001b[0m\u001b[0;34m'Outlet_Identifier'\u001b[0m\u001b[0;34m,\u001b[0m\u001b[0;34m'Outlet_Type'\u001b[0m\u001b[0;34m,\u001b[0m\u001b[0;34m'Item_Type_new'\u001b[0m\u001b[0;34m,\u001b[0m\u001b[0;34m'Item_Category'\u001b[0m\u001b[0;34m]\u001b[0m\u001b[0;34m)\u001b[0m\u001b[0;34m\u001b[0m\u001b[0;34m\u001b[0m\u001b[0m\n\u001b[0m\u001b[1;32m      3\u001b[0m \u001b[0;31m# df_train = pd.get_dummies(df_train, columns=['item_fat_content','outlet_size','outlet_location_type','outlet_type'])\u001b[0m\u001b[0;34m\u001b[0m\u001b[0;34m\u001b[0m\u001b[0;34m\u001b[0m\u001b[0m\n",
            "\u001b[0;32m/usr/local/lib/python3.7/dist-packages/pandas/core/reshape/reshape.py\u001b[0m in \u001b[0;36mget_dummies\u001b[0;34m(data, prefix, prefix_sep, dummy_na, columns, sparse, drop_first, dtype)\u001b[0m\n\u001b[1;32m    888\u001b[0m             \u001b[0;32mraise\u001b[0m \u001b[0mTypeError\u001b[0m\u001b[0;34m(\u001b[0m\u001b[0;34m\"Input must be a list-like for parameter `columns`\"\u001b[0m\u001b[0;34m)\u001b[0m\u001b[0;34m\u001b[0m\u001b[0;34m\u001b[0m\u001b[0m\n\u001b[1;32m    889\u001b[0m         \u001b[0;32melse\u001b[0m\u001b[0;34m:\u001b[0m\u001b[0;34m\u001b[0m\u001b[0;34m\u001b[0m\u001b[0m\n\u001b[0;32m--> 890\u001b[0;31m             \u001b[0mdata_to_encode\u001b[0m \u001b[0;34m=\u001b[0m \u001b[0mdata\u001b[0m\u001b[0;34m[\u001b[0m\u001b[0mcolumns\u001b[0m\u001b[0;34m]\u001b[0m\u001b[0;34m\u001b[0m\u001b[0;34m\u001b[0m\u001b[0m\n\u001b[0m\u001b[1;32m    891\u001b[0m \u001b[0;34m\u001b[0m\u001b[0m\n\u001b[1;32m    892\u001b[0m         \u001b[0;31m# validate prefixes and separator to avoid silently dropping cols\u001b[0m\u001b[0;34m\u001b[0m\u001b[0;34m\u001b[0m\u001b[0;34m\u001b[0m\u001b[0m\n",
            "\u001b[0;32m/usr/local/lib/python3.7/dist-packages/pandas/core/frame.py\u001b[0m in \u001b[0;36m__getitem__\u001b[0;34m(self, key)\u001b[0m\n\u001b[1;32m   3462\u001b[0m             \u001b[0;32mif\u001b[0m \u001b[0mis_iterator\u001b[0m\u001b[0;34m(\u001b[0m\u001b[0mkey\u001b[0m\u001b[0;34m)\u001b[0m\u001b[0;34m:\u001b[0m\u001b[0;34m\u001b[0m\u001b[0;34m\u001b[0m\u001b[0m\n\u001b[1;32m   3463\u001b[0m                 \u001b[0mkey\u001b[0m \u001b[0;34m=\u001b[0m \u001b[0mlist\u001b[0m\u001b[0;34m(\u001b[0m\u001b[0mkey\u001b[0m\u001b[0;34m)\u001b[0m\u001b[0;34m\u001b[0m\u001b[0;34m\u001b[0m\u001b[0m\n\u001b[0;32m-> 3464\u001b[0;31m             \u001b[0mindexer\u001b[0m \u001b[0;34m=\u001b[0m \u001b[0mself\u001b[0m\u001b[0;34m.\u001b[0m\u001b[0mloc\u001b[0m\u001b[0;34m.\u001b[0m\u001b[0m_get_listlike_indexer\u001b[0m\u001b[0;34m(\u001b[0m\u001b[0mkey\u001b[0m\u001b[0;34m,\u001b[0m \u001b[0maxis\u001b[0m\u001b[0;34m=\u001b[0m\u001b[0;36m1\u001b[0m\u001b[0;34m)\u001b[0m\u001b[0;34m[\u001b[0m\u001b[0;36m1\u001b[0m\u001b[0;34m]\u001b[0m\u001b[0;34m\u001b[0m\u001b[0;34m\u001b[0m\u001b[0m\n\u001b[0m\u001b[1;32m   3465\u001b[0m \u001b[0;34m\u001b[0m\u001b[0m\n\u001b[1;32m   3466\u001b[0m         \u001b[0;31m# take() does not accept boolean indexers\u001b[0m\u001b[0;34m\u001b[0m\u001b[0;34m\u001b[0m\u001b[0;34m\u001b[0m\u001b[0m\n",
            "\u001b[0;32m/usr/local/lib/python3.7/dist-packages/pandas/core/indexing.py\u001b[0m in \u001b[0;36m_get_listlike_indexer\u001b[0;34m(self, key, axis)\u001b[0m\n\u001b[1;32m   1312\u001b[0m             \u001b[0mkeyarr\u001b[0m\u001b[0;34m,\u001b[0m \u001b[0mindexer\u001b[0m\u001b[0;34m,\u001b[0m \u001b[0mnew_indexer\u001b[0m \u001b[0;34m=\u001b[0m \u001b[0max\u001b[0m\u001b[0;34m.\u001b[0m\u001b[0m_reindex_non_unique\u001b[0m\u001b[0;34m(\u001b[0m\u001b[0mkeyarr\u001b[0m\u001b[0;34m)\u001b[0m\u001b[0;34m\u001b[0m\u001b[0;34m\u001b[0m\u001b[0m\n\u001b[1;32m   1313\u001b[0m \u001b[0;34m\u001b[0m\u001b[0m\n\u001b[0;32m-> 1314\u001b[0;31m         \u001b[0mself\u001b[0m\u001b[0;34m.\u001b[0m\u001b[0m_validate_read_indexer\u001b[0m\u001b[0;34m(\u001b[0m\u001b[0mkeyarr\u001b[0m\u001b[0;34m,\u001b[0m \u001b[0mindexer\u001b[0m\u001b[0;34m,\u001b[0m \u001b[0maxis\u001b[0m\u001b[0;34m)\u001b[0m\u001b[0;34m\u001b[0m\u001b[0;34m\u001b[0m\u001b[0m\n\u001b[0m\u001b[1;32m   1315\u001b[0m \u001b[0;34m\u001b[0m\u001b[0m\n\u001b[1;32m   1316\u001b[0m         if needs_i8_conversion(ax.dtype) or isinstance(\n",
            "\u001b[0;32m/usr/local/lib/python3.7/dist-packages/pandas/core/indexing.py\u001b[0m in \u001b[0;36m_validate_read_indexer\u001b[0;34m(self, key, indexer, axis)\u001b[0m\n\u001b[1;32m   1372\u001b[0m                 \u001b[0;32mif\u001b[0m \u001b[0muse_interval_msg\u001b[0m\u001b[0;34m:\u001b[0m\u001b[0;34m\u001b[0m\u001b[0;34m\u001b[0m\u001b[0m\n\u001b[1;32m   1373\u001b[0m                     \u001b[0mkey\u001b[0m \u001b[0;34m=\u001b[0m \u001b[0mlist\u001b[0m\u001b[0;34m(\u001b[0m\u001b[0mkey\u001b[0m\u001b[0;34m)\u001b[0m\u001b[0;34m\u001b[0m\u001b[0;34m\u001b[0m\u001b[0m\n\u001b[0;32m-> 1374\u001b[0;31m                 \u001b[0;32mraise\u001b[0m \u001b[0mKeyError\u001b[0m\u001b[0;34m(\u001b[0m\u001b[0;34mf\"None of [{key}] are in the [{axis_name}]\"\u001b[0m\u001b[0;34m)\u001b[0m\u001b[0;34m\u001b[0m\u001b[0;34m\u001b[0m\u001b[0m\n\u001b[0m\u001b[1;32m   1375\u001b[0m \u001b[0;34m\u001b[0m\u001b[0m\n\u001b[1;32m   1376\u001b[0m             \u001b[0mnot_found\u001b[0m \u001b[0;34m=\u001b[0m \u001b[0mlist\u001b[0m\u001b[0;34m(\u001b[0m\u001b[0mensure_index\u001b[0m\u001b[0;34m(\u001b[0m\u001b[0mkey\u001b[0m\u001b[0;34m)\u001b[0m\u001b[0;34m[\u001b[0m\u001b[0mmissing_mask\u001b[0m\u001b[0;34m.\u001b[0m\u001b[0mnonzero\u001b[0m\u001b[0;34m(\u001b[0m\u001b[0;34m)\u001b[0m\u001b[0;34m[\u001b[0m\u001b[0;36m0\u001b[0m\u001b[0;34m]\u001b[0m\u001b[0;34m]\u001b[0m\u001b[0;34m.\u001b[0m\u001b[0munique\u001b[0m\u001b[0;34m(\u001b[0m\u001b[0;34m)\u001b[0m\u001b[0;34m)\u001b[0m\u001b[0;34m\u001b[0m\u001b[0;34m\u001b[0m\u001b[0m\n",
            "\u001b[0;31mKeyError\u001b[0m: \"None of [Index(['Item_Identifier', 'Item_Type', 'Outlet_Identifier', 'Outlet_Type',\\n       'Item_Type_new', 'Item_Category'],\\n      dtype='object')] are in the [columns]\""
          ]
        }
      ],
      "source": [
        "#train['Outlet_Identifier'].unique(),train['Item_Identifier'].unique(),train['Item_Type'].unique()\n",
        "a = pd.get_dummies(train[['Item_Identifier','Item_Type','Outlet_Identifier','Outlet_Type','Item_Type_new','Item_Category']])\n"
      ]
    },
    {
      "cell_type": "code",
      "source": [
        "train = train.drop(['Item_Identifier','Item_Type','Outlet_Identifier','Outlet_Type','Item_Type_new','Item_Category','source'],axis = 1 )\n",
        "train = pd.concat([train,a],axis = 1)"
      ],
      "metadata": {
        "colab": {
          "base_uri": "https://localhost:8080/",
          "height": 352
        },
        "id": "Wv3ZZMO-lrQk",
        "outputId": "ba85fb50-abab-49a1-a41a-942ce0d173fa"
      },
      "execution_count": 80,
      "outputs": [
        {
          "output_type": "error",
          "ename": "KeyError",
          "evalue": "ignored",
          "traceback": [
            "\u001b[0;31m---------------------------------------------------------------------------\u001b[0m",
            "\u001b[0;31mKeyError\u001b[0m                                  Traceback (most recent call last)",
            "\u001b[0;32m<ipython-input-80-beec6df39431>\u001b[0m in \u001b[0;36m<module>\u001b[0;34m()\u001b[0m\n\u001b[0;32m----> 1\u001b[0;31m \u001b[0mtrain\u001b[0m \u001b[0;34m=\u001b[0m \u001b[0mtrain\u001b[0m\u001b[0;34m.\u001b[0m\u001b[0mdrop\u001b[0m\u001b[0;34m(\u001b[0m\u001b[0;34m[\u001b[0m\u001b[0;34m'Item_Identifier'\u001b[0m\u001b[0;34m,\u001b[0m\u001b[0;34m'Item_Type'\u001b[0m\u001b[0;34m,\u001b[0m\u001b[0;34m'Outlet_Identifier'\u001b[0m\u001b[0;34m,\u001b[0m\u001b[0;34m'Outlet_Type'\u001b[0m\u001b[0;34m,\u001b[0m\u001b[0;34m'Item_Type_new'\u001b[0m\u001b[0;34m,\u001b[0m\u001b[0;34m'Item_Category'\u001b[0m\u001b[0;34m,\u001b[0m\u001b[0;34m'source'\u001b[0m\u001b[0;34m]\u001b[0m\u001b[0;34m,\u001b[0m\u001b[0maxis\u001b[0m \u001b[0;34m=\u001b[0m \u001b[0;36m1\u001b[0m \u001b[0;34m)\u001b[0m\u001b[0;34m\u001b[0m\u001b[0;34m\u001b[0m\u001b[0m\n\u001b[0m\u001b[1;32m      2\u001b[0m \u001b[0mtrain\u001b[0m \u001b[0;34m=\u001b[0m \u001b[0mpd\u001b[0m\u001b[0;34m.\u001b[0m\u001b[0mconcat\u001b[0m\u001b[0;34m(\u001b[0m\u001b[0;34m[\u001b[0m\u001b[0mtrain\u001b[0m\u001b[0;34m,\u001b[0m\u001b[0ma\u001b[0m\u001b[0;34m]\u001b[0m\u001b[0;34m,\u001b[0m\u001b[0maxis\u001b[0m \u001b[0;34m=\u001b[0m \u001b[0;36m1\u001b[0m\u001b[0;34m)\u001b[0m\u001b[0;34m\u001b[0m\u001b[0;34m\u001b[0m\u001b[0m\n",
            "\u001b[0;32m/usr/local/lib/python3.7/dist-packages/pandas/util/_decorators.py\u001b[0m in \u001b[0;36mwrapper\u001b[0;34m(*args, **kwargs)\u001b[0m\n\u001b[1;32m    309\u001b[0m                     \u001b[0mstacklevel\u001b[0m\u001b[0;34m=\u001b[0m\u001b[0mstacklevel\u001b[0m\u001b[0;34m,\u001b[0m\u001b[0;34m\u001b[0m\u001b[0;34m\u001b[0m\u001b[0m\n\u001b[1;32m    310\u001b[0m                 )\n\u001b[0;32m--> 311\u001b[0;31m             \u001b[0;32mreturn\u001b[0m \u001b[0mfunc\u001b[0m\u001b[0;34m(\u001b[0m\u001b[0;34m*\u001b[0m\u001b[0margs\u001b[0m\u001b[0;34m,\u001b[0m \u001b[0;34m**\u001b[0m\u001b[0mkwargs\u001b[0m\u001b[0;34m)\u001b[0m\u001b[0;34m\u001b[0m\u001b[0;34m\u001b[0m\u001b[0m\n\u001b[0m\u001b[1;32m    312\u001b[0m \u001b[0;34m\u001b[0m\u001b[0m\n\u001b[1;32m    313\u001b[0m         \u001b[0;32mreturn\u001b[0m \u001b[0mwrapper\u001b[0m\u001b[0;34m\u001b[0m\u001b[0;34m\u001b[0m\u001b[0m\n",
            "\u001b[0;32m/usr/local/lib/python3.7/dist-packages/pandas/core/frame.py\u001b[0m in \u001b[0;36mdrop\u001b[0;34m(self, labels, axis, index, columns, level, inplace, errors)\u001b[0m\n\u001b[1;32m   4911\u001b[0m             \u001b[0mlevel\u001b[0m\u001b[0;34m=\u001b[0m\u001b[0mlevel\u001b[0m\u001b[0;34m,\u001b[0m\u001b[0;34m\u001b[0m\u001b[0;34m\u001b[0m\u001b[0m\n\u001b[1;32m   4912\u001b[0m             \u001b[0minplace\u001b[0m\u001b[0;34m=\u001b[0m\u001b[0minplace\u001b[0m\u001b[0;34m,\u001b[0m\u001b[0;34m\u001b[0m\u001b[0;34m\u001b[0m\u001b[0m\n\u001b[0;32m-> 4913\u001b[0;31m             \u001b[0merrors\u001b[0m\u001b[0;34m=\u001b[0m\u001b[0merrors\u001b[0m\u001b[0;34m,\u001b[0m\u001b[0;34m\u001b[0m\u001b[0;34m\u001b[0m\u001b[0m\n\u001b[0m\u001b[1;32m   4914\u001b[0m         )\n\u001b[1;32m   4915\u001b[0m \u001b[0;34m\u001b[0m\u001b[0m\n",
            "\u001b[0;32m/usr/local/lib/python3.7/dist-packages/pandas/core/generic.py\u001b[0m in \u001b[0;36mdrop\u001b[0;34m(self, labels, axis, index, columns, level, inplace, errors)\u001b[0m\n\u001b[1;32m   4148\u001b[0m         \u001b[0;32mfor\u001b[0m \u001b[0maxis\u001b[0m\u001b[0;34m,\u001b[0m \u001b[0mlabels\u001b[0m \u001b[0;32min\u001b[0m \u001b[0maxes\u001b[0m\u001b[0;34m.\u001b[0m\u001b[0mitems\u001b[0m\u001b[0;34m(\u001b[0m\u001b[0;34m)\u001b[0m\u001b[0;34m:\u001b[0m\u001b[0;34m\u001b[0m\u001b[0;34m\u001b[0m\u001b[0m\n\u001b[1;32m   4149\u001b[0m             \u001b[0;32mif\u001b[0m \u001b[0mlabels\u001b[0m \u001b[0;32mis\u001b[0m \u001b[0;32mnot\u001b[0m \u001b[0;32mNone\u001b[0m\u001b[0;34m:\u001b[0m\u001b[0;34m\u001b[0m\u001b[0;34m\u001b[0m\u001b[0m\n\u001b[0;32m-> 4150\u001b[0;31m                 \u001b[0mobj\u001b[0m \u001b[0;34m=\u001b[0m \u001b[0mobj\u001b[0m\u001b[0;34m.\u001b[0m\u001b[0m_drop_axis\u001b[0m\u001b[0;34m(\u001b[0m\u001b[0mlabels\u001b[0m\u001b[0;34m,\u001b[0m \u001b[0maxis\u001b[0m\u001b[0;34m,\u001b[0m \u001b[0mlevel\u001b[0m\u001b[0;34m=\u001b[0m\u001b[0mlevel\u001b[0m\u001b[0;34m,\u001b[0m \u001b[0merrors\u001b[0m\u001b[0;34m=\u001b[0m\u001b[0merrors\u001b[0m\u001b[0;34m)\u001b[0m\u001b[0;34m\u001b[0m\u001b[0;34m\u001b[0m\u001b[0m\n\u001b[0m\u001b[1;32m   4151\u001b[0m \u001b[0;34m\u001b[0m\u001b[0m\n\u001b[1;32m   4152\u001b[0m         \u001b[0;32mif\u001b[0m \u001b[0minplace\u001b[0m\u001b[0;34m:\u001b[0m\u001b[0;34m\u001b[0m\u001b[0;34m\u001b[0m\u001b[0m\n",
            "\u001b[0;32m/usr/local/lib/python3.7/dist-packages/pandas/core/generic.py\u001b[0m in \u001b[0;36m_drop_axis\u001b[0;34m(self, labels, axis, level, errors)\u001b[0m\n\u001b[1;32m   4183\u001b[0m                 \u001b[0mnew_axis\u001b[0m \u001b[0;34m=\u001b[0m \u001b[0maxis\u001b[0m\u001b[0;34m.\u001b[0m\u001b[0mdrop\u001b[0m\u001b[0;34m(\u001b[0m\u001b[0mlabels\u001b[0m\u001b[0;34m,\u001b[0m \u001b[0mlevel\u001b[0m\u001b[0;34m=\u001b[0m\u001b[0mlevel\u001b[0m\u001b[0;34m,\u001b[0m \u001b[0merrors\u001b[0m\u001b[0;34m=\u001b[0m\u001b[0merrors\u001b[0m\u001b[0;34m)\u001b[0m\u001b[0;34m\u001b[0m\u001b[0;34m\u001b[0m\u001b[0m\n\u001b[1;32m   4184\u001b[0m             \u001b[0;32melse\u001b[0m\u001b[0;34m:\u001b[0m\u001b[0;34m\u001b[0m\u001b[0;34m\u001b[0m\u001b[0m\n\u001b[0;32m-> 4185\u001b[0;31m                 \u001b[0mnew_axis\u001b[0m \u001b[0;34m=\u001b[0m \u001b[0maxis\u001b[0m\u001b[0;34m.\u001b[0m\u001b[0mdrop\u001b[0m\u001b[0;34m(\u001b[0m\u001b[0mlabels\u001b[0m\u001b[0;34m,\u001b[0m \u001b[0merrors\u001b[0m\u001b[0;34m=\u001b[0m\u001b[0merrors\u001b[0m\u001b[0;34m)\u001b[0m\u001b[0;34m\u001b[0m\u001b[0;34m\u001b[0m\u001b[0m\n\u001b[0m\u001b[1;32m   4186\u001b[0m             \u001b[0mresult\u001b[0m \u001b[0;34m=\u001b[0m \u001b[0mself\u001b[0m\u001b[0;34m.\u001b[0m\u001b[0mreindex\u001b[0m\u001b[0;34m(\u001b[0m\u001b[0;34m**\u001b[0m\u001b[0;34m{\u001b[0m\u001b[0maxis_name\u001b[0m\u001b[0;34m:\u001b[0m \u001b[0mnew_axis\u001b[0m\u001b[0;34m}\u001b[0m\u001b[0;34m)\u001b[0m\u001b[0;34m\u001b[0m\u001b[0;34m\u001b[0m\u001b[0m\n\u001b[1;32m   4187\u001b[0m \u001b[0;34m\u001b[0m\u001b[0m\n",
            "\u001b[0;32m/usr/local/lib/python3.7/dist-packages/pandas/core/indexes/base.py\u001b[0m in \u001b[0;36mdrop\u001b[0;34m(self, labels, errors)\u001b[0m\n\u001b[1;32m   6015\u001b[0m         \u001b[0;32mif\u001b[0m \u001b[0mmask\u001b[0m\u001b[0;34m.\u001b[0m\u001b[0many\u001b[0m\u001b[0;34m(\u001b[0m\u001b[0;34m)\u001b[0m\u001b[0;34m:\u001b[0m\u001b[0;34m\u001b[0m\u001b[0;34m\u001b[0m\u001b[0m\n\u001b[1;32m   6016\u001b[0m             \u001b[0;32mif\u001b[0m \u001b[0merrors\u001b[0m \u001b[0;34m!=\u001b[0m \u001b[0;34m\"ignore\"\u001b[0m\u001b[0;34m:\u001b[0m\u001b[0;34m\u001b[0m\u001b[0;34m\u001b[0m\u001b[0m\n\u001b[0;32m-> 6017\u001b[0;31m                 \u001b[0;32mraise\u001b[0m \u001b[0mKeyError\u001b[0m\u001b[0;34m(\u001b[0m\u001b[0;34mf\"{labels[mask]} not found in axis\"\u001b[0m\u001b[0;34m)\u001b[0m\u001b[0;34m\u001b[0m\u001b[0;34m\u001b[0m\u001b[0m\n\u001b[0m\u001b[1;32m   6018\u001b[0m             \u001b[0mindexer\u001b[0m \u001b[0;34m=\u001b[0m \u001b[0mindexer\u001b[0m\u001b[0;34m[\u001b[0m\u001b[0;34m~\u001b[0m\u001b[0mmask\u001b[0m\u001b[0;34m]\u001b[0m\u001b[0;34m\u001b[0m\u001b[0;34m\u001b[0m\u001b[0m\n\u001b[1;32m   6019\u001b[0m         \u001b[0;32mreturn\u001b[0m \u001b[0mself\u001b[0m\u001b[0;34m.\u001b[0m\u001b[0mdelete\u001b[0m\u001b[0;34m(\u001b[0m\u001b[0mindexer\u001b[0m\u001b[0;34m)\u001b[0m\u001b[0;34m\u001b[0m\u001b[0;34m\u001b[0m\u001b[0m\n",
            "\u001b[0;31mKeyError\u001b[0m: \"['Item_Identifier' 'Item_Type' 'Outlet_Identifier' 'Outlet_Type'\\n 'Item_Type_new' 'Item_Category' 'source'] not found in axis\""
          ]
        }
      ]
    },
    {
      "cell_type": "markdown",
      "metadata": {
        "id": "ojHU421sfpR-"
      },
      "source": [
        "### PreProcessing Data"
      ]
    },
    {
      "cell_type": "markdown",
      "metadata": {
        "id": "uYUkWQSwfpR-"
      },
      "source": [
        "#### What is Data PreProcessing?\n"
      ]
    },
    {
      "cell_type": "markdown",
      "metadata": {
        "id": "wh2fQpLSfpR-"
      },
      "source": [
        "In simple words, pre-processing refers to the transformations applied to your data before feeding it to the algorithm. It invloves further cleaning of data, data transformation, data scaling and many more things."
      ]
    },
    {
      "cell_type": "markdown",
      "metadata": {
        "id": "CtmWlfApfpR_"
      },
      "source": [
        "For our data, we will deal with the skewness and scale the numerical variables"
      ]
    },
    {
      "cell_type": "markdown",
      "metadata": {
        "id": "Hyrlbr9NfpR_"
      },
      "source": [
        "#### Removing Skewness"
      ]
    },
    {
      "cell_type": "markdown",
      "metadata": {
        "id": "pzGH96icfpR_"
      },
      "source": [
        "Skewness in variables is undesirable for predictive modeling. Some machine learning methods assume normally distributed data and a skewed variable can be transformed by taking its log, square root, or cube root so as to make its distribution as close to normal distribution as possible. In our data, variables Item_Visibility and price_per_unit_wt are highly skewed. So, we will treat their skewness with the help of log transformation."
      ]
    },
    {
      "cell_type": "code",
      "execution_count": 81,
      "metadata": {
        "id": "FXdiMCaqfpR_"
      },
      "outputs": [],
      "source": [
        "train['Price_Per_Unit_Weight'] = np.log(train['Price_Per_Unit_Weight'])\n",
        "train['Item_Visibility'] = np.log(train['Item_Visibility'])"
      ]
    },
    {
      "cell_type": "markdown",
      "metadata": {
        "id": "88R7dzuafpSA"
      },
      "source": [
        "#### Correlated Variables\n",
        "Let’s examine the correlated features of train dataset. Correlation varies from -1 to 1.\n",
        "\n",
        "<ul> 1). negative correlation: < 0 and >= -1 </ul>\n",
        "<ul> 2). positive correlation: > 0 and <= 1</ul>\n",
        "<ul> 3). no correlation: 0"
      ]
    },
    {
      "cell_type": "code",
      "execution_count": 82,
      "metadata": {
        "colab": {
          "base_uri": "https://localhost:8080/",
          "height": 505
        },
        "id": "oeKDVt7BfpSA",
        "outputId": "4e997587-dcbf-4939-bee7-794521aee3e1"
      },
      "outputs": [
        {
          "output_type": "execute_result",
          "data": {
            "text/plain": [
              "                           Item_Weight  Item_Fat_Content  Item_Visibility  \\\n",
              "Item_Weight                   1.000000         -0.003317         0.066080   \n",
              "Item_Fat_Content             -0.003317          1.000000         0.022764   \n",
              "Item_Visibility               0.066080          0.022764         1.000000   \n",
              "Item_MRP                     -0.008383          0.008594        -0.001259   \n",
              "Outlet_Establishment_Year    -0.697827          0.001451        -0.051790   \n",
              "...                                ...               ...              ...   \n",
              "Item_Type_new_not_sure        0.001699         -0.012913        -0.003787   \n",
              "Item_Type_new_perishable      0.015956          0.052585         0.048058   \n",
              "Item_Category_DR             -0.014775         -0.257054        -0.000217   \n",
              "Item_Category_FD              0.010002          0.116740         0.071544   \n",
              "Item_Category_NC             -0.000490          0.057458        -0.082243   \n",
              "\n",
              "                           Item_MRP  Outlet_Establishment_Year  Outlet_Size  \\\n",
              "Item_Weight               -0.008383                  -0.697827    -0.061976   \n",
              "Item_Fat_Content           0.008594                   0.001451    -0.000829   \n",
              "Item_Visibility           -0.001259                  -0.051790     0.074313   \n",
              "Item_MRP                   1.000000                   0.005020     0.000872   \n",
              "Outlet_Establishment_Year  0.005020                   1.000000     0.425534   \n",
              "...                             ...                        ...          ...   \n",
              "Item_Type_new_not_sure     0.028963                   0.005425     0.000402   \n",
              "Item_Type_new_perishable   0.037030                  -0.016566    -0.007977   \n",
              "Item_Category_DR          -0.051733                   0.009441     0.003876   \n",
              "Item_Category_FD           0.029315                  -0.002312    -0.003544   \n",
              "Item_Category_NC           0.004859                  -0.004385     0.001188   \n",
              "\n",
              "                           Outlet_Location_Type  Item_Outlet_Sales  \\\n",
              "Item_Weight                            0.092652           0.080829   \n",
              "Item_Fat_Content                       0.000958           0.015249   \n",
              "Item_Visibility                       -0.018024          -0.097821   \n",
              "Item_MRP                               0.000232           0.567574   \n",
              "Outlet_Establishment_Year             -0.089216          -0.049135   \n",
              "...                                         ...                ...   \n",
              "Item_Type_new_not_sure                -0.004614           0.018100   \n",
              "Item_Type_new_perishable               0.002475           0.024315   \n",
              "Item_Category_DR                      -0.005539          -0.034672   \n",
              "Item_Category_FD                      -0.001713           0.031905   \n",
              "Item_Category_NC                       0.006109          -0.010861   \n",
              "\n",
              "                           Outlet_Years  Price_Per_Unit_Weight  ...  \\\n",
              "Item_Weight                    0.697827              -0.931502  ...   \n",
              "Item_Fat_Content              -0.001451               0.007066  ...   \n",
              "Item_Visibility                0.051790              -0.061003  ...   \n",
              "Item_MRP                      -0.005020               0.301232  ...   \n",
              "Outlet_Establishment_Year     -1.000000               0.649372  ...   \n",
              "...                                 ...                    ...  ...   \n",
              "Item_Type_new_not_sure        -0.005425               0.003193  ...   \n",
              "Item_Type_new_perishable       0.016566              -0.007846  ...   \n",
              "Item_Category_DR              -0.009441               0.004486  ...   \n",
              "Item_Category_FD               0.002312               0.002912  ...   \n",
              "Item_Category_NC               0.004385              -0.006704  ...   \n",
              "\n",
              "                           Outlet_Type_Grocery Store  \\\n",
              "Item_Weight                                 0.319613   \n",
              "Item_Fat_Content                            0.000742   \n",
              "Item_Visibility                             0.220199   \n",
              "Item_MRP                                   -0.004277   \n",
              "Outlet_Establishment_Year                  -0.281196   \n",
              "...                                              ...   \n",
              "Item_Type_new_not_sure                     -0.006228   \n",
              "Item_Type_new_perishable                    0.015642   \n",
              "Item_Category_DR                           -0.003055   \n",
              "Item_Category_FD                           -0.005712   \n",
              "Item_Category_NC                            0.008860   \n",
              "\n",
              "                           Outlet_Type_Supermarket Type1  \\\n",
              "Item_Weight                                    -0.626303   \n",
              "Item_Fat_Content                               -0.001443   \n",
              "Item_Visibility                                -0.113338   \n",
              "Item_MRP                                        0.004885   \n",
              "Outlet_Establishment_Year                       0.245070   \n",
              "...                                                  ...   \n",
              "Item_Type_new_not_sure                          0.002164   \n",
              "Item_Type_new_perishable                       -0.015081   \n",
              "Item_Category_DR                                0.011999   \n",
              "Item_Category_FD                               -0.003772   \n",
              "Item_Category_NC                               -0.004614   \n",
              "\n",
              "                           Outlet_Type_Supermarket Type2  \\\n",
              "Item_Weight                                    -0.159086   \n",
              "Item_Fat_Content                                0.001810   \n",
              "Item_Visibility                                -0.021623   \n",
              "Item_MRP                                        0.003850   \n",
              "Outlet_Establishment_Year                       0.466336   \n",
              "...                                                  ...   \n",
              "Item_Type_new_not_sure                          0.003768   \n",
              "Item_Type_new_perishable                       -0.000764   \n",
              "Item_Category_DR                               -0.003872   \n",
              "Item_Category_FD                                0.003433   \n",
              "Item_Category_NC                               -0.001063   \n",
              "\n",
              "                           Outlet_Type_Supermarket Type3  \\\n",
              "Item_Weight                                     0.771038   \n",
              "Item_Fat_Content                               -0.000399   \n",
              "Item_Visibility                                -0.040640   \n",
              "Item_MRP                                       -0.006714   \n",
              "Outlet_Establishment_Year                      -0.538072   \n",
              "...                                                  ...   \n",
              "Item_Type_new_not_sure                         -0.000412   \n",
              "Item_Type_new_perishable                        0.007042   \n",
              "Item_Category_DR                               -0.011145   \n",
              "Item_Category_FD                                0.008406   \n",
              "Item_Category_NC                               -0.001361   \n",
              "\n",
              "                           Item_Type_new_non_perishable  \\\n",
              "Item_Weight                                   -0.016239   \n",
              "Item_Fat_Content                              -0.039354   \n",
              "Item_Visibility                               -0.042096   \n",
              "Item_MRP                                      -0.056826   \n",
              "Outlet_Establishment_Year                      0.011359   \n",
              "...                                                 ...   \n",
              "Item_Type_new_not_sure                        -0.463202   \n",
              "Item_Type_new_perishable                      -0.689617   \n",
              "Item_Category_DR                               0.210390   \n",
              "Item_Category_FD                              -0.467322   \n",
              "Item_Category_NC                               0.381179   \n",
              "\n",
              "                           Item_Type_new_not_sure  Item_Type_new_perishable  \\\n",
              "Item_Weight                              0.001699                  0.015956   \n",
              "Item_Fat_Content                        -0.012913                  0.052585   \n",
              "Item_Visibility                         -0.003787                  0.048058   \n",
              "Item_MRP                                 0.028963                  0.037030   \n",
              "Outlet_Establishment_Year                0.005425                 -0.016566   \n",
              "...                                           ...                       ...   \n",
              "Item_Type_new_not_sure                   1.000000                 -0.322369   \n",
              "Item_Type_new_perishable                -0.322369                  1.000000   \n",
              "Item_Category_DR                        -0.149661                 -0.102429   \n",
              "Item_Category_FD                         0.175873                  0.355441   \n",
              "Item_Category_NC                        -0.090831                 -0.332921   \n",
              "\n",
              "                           Item_Category_DR  Item_Category_FD  \\\n",
              "Item_Weight                       -0.014775          0.010002   \n",
              "Item_Fat_Content                  -0.257054          0.116740   \n",
              "Item_Visibility                   -0.000217          0.071544   \n",
              "Item_MRP                          -0.051733          0.029315   \n",
              "Outlet_Establishment_Year          0.009441         -0.002312   \n",
              "...                                     ...               ...   \n",
              "Item_Type_new_not_sure            -0.149661          0.175873   \n",
              "Item_Type_new_perishable          -0.102429          0.355441   \n",
              "Item_Category_DR                   1.000000         -0.514021   \n",
              "Item_Category_FD                  -0.514021          1.000000   \n",
              "Item_Category_NC                  -0.154560         -0.768023   \n",
              "\n",
              "                           Item_Category_NC  \n",
              "Item_Weight                       -0.000490  \n",
              "Item_Fat_Content                   0.057458  \n",
              "Item_Visibility                   -0.082243  \n",
              "Item_MRP                           0.004859  \n",
              "Outlet_Establishment_Year         -0.004385  \n",
              "...                                     ...  \n",
              "Item_Type_new_not_sure            -0.090831  \n",
              "Item_Type_new_perishable          -0.332921  \n",
              "Item_Category_DR                  -0.154560  \n",
              "Item_Category_FD                  -0.768023  \n",
              "Item_Category_NC                   1.000000  \n",
              "\n",
              "[1606 rows x 1606 columns]"
            ],
            "text/html": [
              "\n",
              "  <div id=\"df-76abcc4a-0434-4575-ba61-149bd0e586ab\">\n",
              "    <div class=\"colab-df-container\">\n",
              "      <div>\n",
              "<style scoped>\n",
              "    .dataframe tbody tr th:only-of-type {\n",
              "        vertical-align: middle;\n",
              "    }\n",
              "\n",
              "    .dataframe tbody tr th {\n",
              "        vertical-align: top;\n",
              "    }\n",
              "\n",
              "    .dataframe thead th {\n",
              "        text-align: right;\n",
              "    }\n",
              "</style>\n",
              "<table border=\"1\" class=\"dataframe\">\n",
              "  <thead>\n",
              "    <tr style=\"text-align: right;\">\n",
              "      <th></th>\n",
              "      <th>Item_Weight</th>\n",
              "      <th>Item_Fat_Content</th>\n",
              "      <th>Item_Visibility</th>\n",
              "      <th>Item_MRP</th>\n",
              "      <th>Outlet_Establishment_Year</th>\n",
              "      <th>Outlet_Size</th>\n",
              "      <th>Outlet_Location_Type</th>\n",
              "      <th>Item_Outlet_Sales</th>\n",
              "      <th>Outlet_Years</th>\n",
              "      <th>Price_Per_Unit_Weight</th>\n",
              "      <th>...</th>\n",
              "      <th>Outlet_Type_Grocery Store</th>\n",
              "      <th>Outlet_Type_Supermarket Type1</th>\n",
              "      <th>Outlet_Type_Supermarket Type2</th>\n",
              "      <th>Outlet_Type_Supermarket Type3</th>\n",
              "      <th>Item_Type_new_non_perishable</th>\n",
              "      <th>Item_Type_new_not_sure</th>\n",
              "      <th>Item_Type_new_perishable</th>\n",
              "      <th>Item_Category_DR</th>\n",
              "      <th>Item_Category_FD</th>\n",
              "      <th>Item_Category_NC</th>\n",
              "    </tr>\n",
              "  </thead>\n",
              "  <tbody>\n",
              "    <tr>\n",
              "      <th>Item_Weight</th>\n",
              "      <td>1.000000</td>\n",
              "      <td>-0.003317</td>\n",
              "      <td>0.066080</td>\n",
              "      <td>-0.008383</td>\n",
              "      <td>-0.697827</td>\n",
              "      <td>-0.061976</td>\n",
              "      <td>0.092652</td>\n",
              "      <td>0.080829</td>\n",
              "      <td>0.697827</td>\n",
              "      <td>-0.931502</td>\n",
              "      <td>...</td>\n",
              "      <td>0.319613</td>\n",
              "      <td>-0.626303</td>\n",
              "      <td>-0.159086</td>\n",
              "      <td>0.771038</td>\n",
              "      <td>-0.016239</td>\n",
              "      <td>0.001699</td>\n",
              "      <td>0.015956</td>\n",
              "      <td>-0.014775</td>\n",
              "      <td>0.010002</td>\n",
              "      <td>-0.000490</td>\n",
              "    </tr>\n",
              "    <tr>\n",
              "      <th>Item_Fat_Content</th>\n",
              "      <td>-0.003317</td>\n",
              "      <td>1.000000</td>\n",
              "      <td>0.022764</td>\n",
              "      <td>0.008594</td>\n",
              "      <td>0.001451</td>\n",
              "      <td>-0.000829</td>\n",
              "      <td>0.000958</td>\n",
              "      <td>0.015249</td>\n",
              "      <td>-0.001451</td>\n",
              "      <td>0.007066</td>\n",
              "      <td>...</td>\n",
              "      <td>0.000742</td>\n",
              "      <td>-0.001443</td>\n",
              "      <td>0.001810</td>\n",
              "      <td>-0.000399</td>\n",
              "      <td>-0.039354</td>\n",
              "      <td>-0.012913</td>\n",
              "      <td>0.052585</td>\n",
              "      <td>-0.257054</td>\n",
              "      <td>0.116740</td>\n",
              "      <td>0.057458</td>\n",
              "    </tr>\n",
              "    <tr>\n",
              "      <th>Item_Visibility</th>\n",
              "      <td>0.066080</td>\n",
              "      <td>0.022764</td>\n",
              "      <td>1.000000</td>\n",
              "      <td>-0.001259</td>\n",
              "      <td>-0.051790</td>\n",
              "      <td>0.074313</td>\n",
              "      <td>-0.018024</td>\n",
              "      <td>-0.097821</td>\n",
              "      <td>0.051790</td>\n",
              "      <td>-0.061003</td>\n",
              "      <td>...</td>\n",
              "      <td>0.220199</td>\n",
              "      <td>-0.113338</td>\n",
              "      <td>-0.021623</td>\n",
              "      <td>-0.040640</td>\n",
              "      <td>-0.042096</td>\n",
              "      <td>-0.003787</td>\n",
              "      <td>0.048058</td>\n",
              "      <td>-0.000217</td>\n",
              "      <td>0.071544</td>\n",
              "      <td>-0.082243</td>\n",
              "    </tr>\n",
              "    <tr>\n",
              "      <th>Item_MRP</th>\n",
              "      <td>-0.008383</td>\n",
              "      <td>0.008594</td>\n",
              "      <td>-0.001259</td>\n",
              "      <td>1.000000</td>\n",
              "      <td>0.005020</td>\n",
              "      <td>0.000872</td>\n",
              "      <td>0.000232</td>\n",
              "      <td>0.567574</td>\n",
              "      <td>-0.005020</td>\n",
              "      <td>0.301232</td>\n",
              "      <td>...</td>\n",
              "      <td>-0.004277</td>\n",
              "      <td>0.004885</td>\n",
              "      <td>0.003850</td>\n",
              "      <td>-0.006714</td>\n",
              "      <td>-0.056826</td>\n",
              "      <td>0.028963</td>\n",
              "      <td>0.037030</td>\n",
              "      <td>-0.051733</td>\n",
              "      <td>0.029315</td>\n",
              "      <td>0.004859</td>\n",
              "    </tr>\n",
              "    <tr>\n",
              "      <th>Outlet_Establishment_Year</th>\n",
              "      <td>-0.697827</td>\n",
              "      <td>0.001451</td>\n",
              "      <td>-0.051790</td>\n",
              "      <td>0.005020</td>\n",
              "      <td>1.000000</td>\n",
              "      <td>0.425534</td>\n",
              "      <td>-0.089216</td>\n",
              "      <td>-0.049135</td>\n",
              "      <td>-1.000000</td>\n",
              "      <td>0.649372</td>\n",
              "      <td>...</td>\n",
              "      <td>-0.281196</td>\n",
              "      <td>0.245070</td>\n",
              "      <td>0.466336</td>\n",
              "      <td>-0.538072</td>\n",
              "      <td>0.011359</td>\n",
              "      <td>0.005425</td>\n",
              "      <td>-0.016566</td>\n",
              "      <td>0.009441</td>\n",
              "      <td>-0.002312</td>\n",
              "      <td>-0.004385</td>\n",
              "    </tr>\n",
              "    <tr>\n",
              "      <th>...</th>\n",
              "      <td>...</td>\n",
              "      <td>...</td>\n",
              "      <td>...</td>\n",
              "      <td>...</td>\n",
              "      <td>...</td>\n",
              "      <td>...</td>\n",
              "      <td>...</td>\n",
              "      <td>...</td>\n",
              "      <td>...</td>\n",
              "      <td>...</td>\n",
              "      <td>...</td>\n",
              "      <td>...</td>\n",
              "      <td>...</td>\n",
              "      <td>...</td>\n",
              "      <td>...</td>\n",
              "      <td>...</td>\n",
              "      <td>...</td>\n",
              "      <td>...</td>\n",
              "      <td>...</td>\n",
              "      <td>...</td>\n",
              "      <td>...</td>\n",
              "    </tr>\n",
              "    <tr>\n",
              "      <th>Item_Type_new_not_sure</th>\n",
              "      <td>0.001699</td>\n",
              "      <td>-0.012913</td>\n",
              "      <td>-0.003787</td>\n",
              "      <td>0.028963</td>\n",
              "      <td>0.005425</td>\n",
              "      <td>0.000402</td>\n",
              "      <td>-0.004614</td>\n",
              "      <td>0.018100</td>\n",
              "      <td>-0.005425</td>\n",
              "      <td>0.003193</td>\n",
              "      <td>...</td>\n",
              "      <td>-0.006228</td>\n",
              "      <td>0.002164</td>\n",
              "      <td>0.003768</td>\n",
              "      <td>-0.000412</td>\n",
              "      <td>-0.463202</td>\n",
              "      <td>1.000000</td>\n",
              "      <td>-0.322369</td>\n",
              "      <td>-0.149661</td>\n",
              "      <td>0.175873</td>\n",
              "      <td>-0.090831</td>\n",
              "    </tr>\n",
              "    <tr>\n",
              "      <th>Item_Type_new_perishable</th>\n",
              "      <td>0.015956</td>\n",
              "      <td>0.052585</td>\n",
              "      <td>0.048058</td>\n",
              "      <td>0.037030</td>\n",
              "      <td>-0.016566</td>\n",
              "      <td>-0.007977</td>\n",
              "      <td>0.002475</td>\n",
              "      <td>0.024315</td>\n",
              "      <td>0.016566</td>\n",
              "      <td>-0.007846</td>\n",
              "      <td>...</td>\n",
              "      <td>0.015642</td>\n",
              "      <td>-0.015081</td>\n",
              "      <td>-0.000764</td>\n",
              "      <td>0.007042</td>\n",
              "      <td>-0.689617</td>\n",
              "      <td>-0.322369</td>\n",
              "      <td>1.000000</td>\n",
              "      <td>-0.102429</td>\n",
              "      <td>0.355441</td>\n",
              "      <td>-0.332921</td>\n",
              "    </tr>\n",
              "    <tr>\n",
              "      <th>Item_Category_DR</th>\n",
              "      <td>-0.014775</td>\n",
              "      <td>-0.257054</td>\n",
              "      <td>-0.000217</td>\n",
              "      <td>-0.051733</td>\n",
              "      <td>0.009441</td>\n",
              "      <td>0.003876</td>\n",
              "      <td>-0.005539</td>\n",
              "      <td>-0.034672</td>\n",
              "      <td>-0.009441</td>\n",
              "      <td>0.004486</td>\n",
              "      <td>...</td>\n",
              "      <td>-0.003055</td>\n",
              "      <td>0.011999</td>\n",
              "      <td>-0.003872</td>\n",
              "      <td>-0.011145</td>\n",
              "      <td>0.210390</td>\n",
              "      <td>-0.149661</td>\n",
              "      <td>-0.102429</td>\n",
              "      <td>1.000000</td>\n",
              "      <td>-0.514021</td>\n",
              "      <td>-0.154560</td>\n",
              "    </tr>\n",
              "    <tr>\n",
              "      <th>Item_Category_FD</th>\n",
              "      <td>0.010002</td>\n",
              "      <td>0.116740</td>\n",
              "      <td>0.071544</td>\n",
              "      <td>0.029315</td>\n",
              "      <td>-0.002312</td>\n",
              "      <td>-0.003544</td>\n",
              "      <td>-0.001713</td>\n",
              "      <td>0.031905</td>\n",
              "      <td>0.002312</td>\n",
              "      <td>0.002912</td>\n",
              "      <td>...</td>\n",
              "      <td>-0.005712</td>\n",
              "      <td>-0.003772</td>\n",
              "      <td>0.003433</td>\n",
              "      <td>0.008406</td>\n",
              "      <td>-0.467322</td>\n",
              "      <td>0.175873</td>\n",
              "      <td>0.355441</td>\n",
              "      <td>-0.514021</td>\n",
              "      <td>1.000000</td>\n",
              "      <td>-0.768023</td>\n",
              "    </tr>\n",
              "    <tr>\n",
              "      <th>Item_Category_NC</th>\n",
              "      <td>-0.000490</td>\n",
              "      <td>0.057458</td>\n",
              "      <td>-0.082243</td>\n",
              "      <td>0.004859</td>\n",
              "      <td>-0.004385</td>\n",
              "      <td>0.001188</td>\n",
              "      <td>0.006109</td>\n",
              "      <td>-0.010861</td>\n",
              "      <td>0.004385</td>\n",
              "      <td>-0.006704</td>\n",
              "      <td>...</td>\n",
              "      <td>0.008860</td>\n",
              "      <td>-0.004614</td>\n",
              "      <td>-0.001063</td>\n",
              "      <td>-0.001361</td>\n",
              "      <td>0.381179</td>\n",
              "      <td>-0.090831</td>\n",
              "      <td>-0.332921</td>\n",
              "      <td>-0.154560</td>\n",
              "      <td>-0.768023</td>\n",
              "      <td>1.000000</td>\n",
              "    </tr>\n",
              "  </tbody>\n",
              "</table>\n",
              "<p>1606 rows × 1606 columns</p>\n",
              "</div>\n",
              "      <button class=\"colab-df-convert\" onclick=\"convertToInteractive('df-76abcc4a-0434-4575-ba61-149bd0e586ab')\"\n",
              "              title=\"Convert this dataframe to an interactive table.\"\n",
              "              style=\"display:none;\">\n",
              "        \n",
              "  <svg xmlns=\"http://www.w3.org/2000/svg\" height=\"24px\"viewBox=\"0 0 24 24\"\n",
              "       width=\"24px\">\n",
              "    <path d=\"M0 0h24v24H0V0z\" fill=\"none\"/>\n",
              "    <path d=\"M18.56 5.44l.94 2.06.94-2.06 2.06-.94-2.06-.94-.94-2.06-.94 2.06-2.06.94zm-11 1L8.5 8.5l.94-2.06 2.06-.94-2.06-.94L8.5 2.5l-.94 2.06-2.06.94zm10 10l.94 2.06.94-2.06 2.06-.94-2.06-.94-.94-2.06-.94 2.06-2.06.94z\"/><path d=\"M17.41 7.96l-1.37-1.37c-.4-.4-.92-.59-1.43-.59-.52 0-1.04.2-1.43.59L10.3 9.45l-7.72 7.72c-.78.78-.78 2.05 0 2.83L4 21.41c.39.39.9.59 1.41.59.51 0 1.02-.2 1.41-.59l7.78-7.78 2.81-2.81c.8-.78.8-2.07 0-2.86zM5.41 20L4 18.59l7.72-7.72 1.47 1.35L5.41 20z\"/>\n",
              "  </svg>\n",
              "      </button>\n",
              "      \n",
              "  <style>\n",
              "    .colab-df-container {\n",
              "      display:flex;\n",
              "      flex-wrap:wrap;\n",
              "      gap: 12px;\n",
              "    }\n",
              "\n",
              "    .colab-df-convert {\n",
              "      background-color: #E8F0FE;\n",
              "      border: none;\n",
              "      border-radius: 50%;\n",
              "      cursor: pointer;\n",
              "      display: none;\n",
              "      fill: #1967D2;\n",
              "      height: 32px;\n",
              "      padding: 0 0 0 0;\n",
              "      width: 32px;\n",
              "    }\n",
              "\n",
              "    .colab-df-convert:hover {\n",
              "      background-color: #E2EBFA;\n",
              "      box-shadow: 0px 1px 2px rgba(60, 64, 67, 0.3), 0px 1px 3px 1px rgba(60, 64, 67, 0.15);\n",
              "      fill: #174EA6;\n",
              "    }\n",
              "\n",
              "    [theme=dark] .colab-df-convert {\n",
              "      background-color: #3B4455;\n",
              "      fill: #D2E3FC;\n",
              "    }\n",
              "\n",
              "    [theme=dark] .colab-df-convert:hover {\n",
              "      background-color: #434B5C;\n",
              "      box-shadow: 0px 1px 3px 1px rgba(0, 0, 0, 0.15);\n",
              "      filter: drop-shadow(0px 1px 2px rgba(0, 0, 0, 0.3));\n",
              "      fill: #FFFFFF;\n",
              "    }\n",
              "  </style>\n",
              "\n",
              "      <script>\n",
              "        const buttonEl =\n",
              "          document.querySelector('#df-76abcc4a-0434-4575-ba61-149bd0e586ab button.colab-df-convert');\n",
              "        buttonEl.style.display =\n",
              "          google.colab.kernel.accessAllowed ? 'block' : 'none';\n",
              "\n",
              "        async function convertToInteractive(key) {\n",
              "          const element = document.querySelector('#df-76abcc4a-0434-4575-ba61-149bd0e586ab');\n",
              "          const dataTable =\n",
              "            await google.colab.kernel.invokeFunction('convertToInteractive',\n",
              "                                                     [key], {});\n",
              "          if (!dataTable) return;\n",
              "\n",
              "          const docLinkHtml = 'Like what you see? Visit the ' +\n",
              "            '<a target=\"_blank\" href=https://colab.research.google.com/notebooks/data_table.ipynb>data table notebook</a>'\n",
              "            + ' to learn more about interactive tables.';\n",
              "          element.innerHTML = '';\n",
              "          dataTable['output_type'] = 'display_data';\n",
              "          await google.colab.output.renderOutput(dataTable, element);\n",
              "          const docLink = document.createElement('div');\n",
              "          docLink.innerHTML = docLinkHtml;\n",
              "          element.appendChild(docLink);\n",
              "        }\n",
              "      </script>\n",
              "    </div>\n",
              "  </div>\n",
              "  "
            ]
          },
          "metadata": {},
          "execution_count": 82
        }
      ],
      "source": [
        "corr = train.corr()\n",
        "corr"
      ]
    },
    {
      "cell_type": "markdown",
      "metadata": {
        "id": "3oaHYjT-fpSA"
      },
      "source": [
        "The correlation plot above shows correlation between all the possible pairs of variables in out data. The correlation between any two variables is represented with a number. a positive number represents positive correlation and negative number indicates negative correlation.\n",
        "\n",
        "Variables price_per_unit_wt and Item_Weight are highly correlated as the former one was created from the latter. Similarly price_per_unit_wt and Item_MRP are highly correlated for the same reason."
      ]
    },
    {
      "cell_type": "markdown",
      "metadata": {
        "id": "8n4-X0i3fpSB"
      },
      "source": [
        "### Model Building"
      ]
    },
    {
      "cell_type": "markdown",
      "metadata": {
        "id": "PTmCvM0ZfpSB"
      },
      "source": [
        "Finally we have arrived at most interesting stage of the whole process — predictive modeling. We will start off with the simpler models and gradually move on to more sophisticated models. We will start with the simpler linear models and then move over to more complex models like RandomForest and XGBoost.\n",
        "\n",
        "We will build the following models in the next sections.\n",
        "\n",
        "<ul><li>Linear Regression</li></ul>\n",
        "<ul><li>Lasso Regression</li></ul>\n",
        "<ul><li>Ridge Regression</li></ul>\n",
        "<ul><li>RandomForest</li></ul>\n",
        "<ul><li>XGBoost</li></ul>"
      ]
    },
    {
      "cell_type": "markdown",
      "metadata": {
        "id": "eSvBu-knfpSB"
      },
      "source": [
        "####  Evaluation Metrics for Regression"
      ]
    },
    {
      "cell_type": "markdown",
      "metadata": {
        "id": "HLLWwygufpSC"
      },
      "source": [
        "The process of model building is not complete without evaluation of model’s performance. That’s why we need an evaluation metric to evaluate our model. Since this is a regression problem, we can evaluate our models using any one of the following evaluation metrics:\n",
        "\n"
      ]
    },
    {
      "cell_type": "markdown",
      "metadata": {
        "id": "UosfqwOlfpSC"
      },
      "source": [
        "<b>Mean Absolute Error (MAE)</b> is the mean of the absolute value of the errors:"
      ]
    },
    {
      "cell_type": "markdown",
      "metadata": {
        "id": "Uq_yDP9tfpSC"
      },
      "source": [
        "![](https://miro.medium.com/max/390/1*8DXbECB9pnKxTpIvuVD-vg.png)"
      ]
    },
    {
      "cell_type": "markdown",
      "metadata": {
        "id": "3NmM14HHfpSC"
      },
      "source": [
        "<b>Mean Squared Error (MSE)</b> is the mean of the squared errors:\n",
        "![](data:image/png;base64,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)"
      ]
    },
    {
      "cell_type": "markdown",
      "metadata": {
        "id": "Nw-3PY-CfpSD"
      },
      "source": [
        "<b>Root Mean Squared Error (RMSE)</b> is the square root of the mean of the squared errors:\n",
        "![](data:image/png;base64,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)"
      ]
    },
    {
      "cell_type": "markdown",
      "metadata": {
        "id": "o-mMcVZHfpSD"
      },
      "source": [
        "### Linear Regression"
      ]
    },
    {
      "cell_type": "markdown",
      "metadata": {
        "id": "dAQNQqdIfpSD"
      },
      "source": [
        "Linear regression is the simplest and most widely used statistical technique for predictive modeling. Given below is the linear regression equation:\n",
        "![](data:image/png;base64,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)"
      ]
    },
    {
      "cell_type": "markdown",
      "metadata": {
        "id": "CCURve96fpSE"
      },
      "source": [
        "where X1, X2,…,Xn are the independent variables, Y is the target variable and all thetas are the coefficients. Magnitude of a coefficient wrt to the other coefficients determines the importance of the corresponding independent variable.\n",
        "\n",
        "For a good linear regression model, the data should satisfy a few assumptions.\n",
        "\n",
        "One of these assumptions is that of absence of multicollinearity, i.e, the independent variables should be correlated. However, as per the correlation plot above, we have a few highly correlated independent variables in our data. This issue of multicollinearity can be dealt with regularization.\n",
        "\n",
        "For the time being, let’s build our linear regression model with all the variables. We will use 5-fold cross validationin all the models we are going to build. Basically cross vaidation gives an idea as to how well a model generalizes to unseen data."
      ]
    },
    {
      "cell_type": "markdown",
      "metadata": {
        "id": "t1IQSwzpfpSE"
      },
      "source": [
        "#### Building Model"
      ]
    },
    {
      "cell_type": "code",
      "execution_count": 83,
      "metadata": {
        "id": "dSNQU5EnfpSE"
      },
      "outputs": [],
      "source": [
        "from sklearn.linear_model import LinearRegression"
      ]
    },
    {
      "cell_type": "code",
      "execution_count": 84,
      "metadata": {
        "id": "30Sx2yfVfpSF"
      },
      "outputs": [],
      "source": [
        "X = train.drop('Item_Outlet_Sales',axis = 1)\n",
        "y = train['Item_Outlet_Sales']"
      ]
    },
    {
      "cell_type": "markdown",
      "metadata": {
        "id": "5Dw8hWnTfpSF"
      },
      "source": [
        "### Train - Validation Split"
      ]
    },
    {
      "cell_type": "code",
      "execution_count": 85,
      "metadata": {
        "id": "Kpb2oOrjfpSF"
      },
      "outputs": [],
      "source": [
        "from sklearn.model_selection import train_test_split"
      ]
    },
    {
      "cell_type": "code",
      "execution_count": 86,
      "metadata": {
        "id": "DR7QUvh9fpSF"
      },
      "outputs": [],
      "source": [
        "X_train,X_valid,y_train,y_valid = train_test_split(X,y,random_state = 8)"
      ]
    },
    {
      "cell_type": "code",
      "execution_count": 87,
      "metadata": {
        "colab": {
          "base_uri": "https://localhost:8080/"
        },
        "id": "rCjLTQeOfpSG",
        "outputId": "b626ea29-2072-420d-dd34-7ccff12b7015"
      },
      "outputs": [
        {
          "output_type": "stream",
          "name": "stdout",
          "text": [
            "(6392, 1605) (2131, 1605) (6392,) (2131,)\n"
          ]
        }
      ],
      "source": [
        "print(X_train.shape,X_valid.shape,y_train.shape,y_valid.shape)"
      ]
    },
    {
      "cell_type": "code",
      "execution_count": 88,
      "metadata": {
        "colab": {
          "base_uri": "https://localhost:8080/",
          "height": 317
        },
        "id": "gLV9r3MLfpSG",
        "outputId": "3268fda6-fba8-4f04-d429-a48eb11b4a86"
      },
      "outputs": [
        {
          "output_type": "execute_result",
          "data": {
            "text/plain": [
              "      Item_Weight  Item_Fat_Content  Item_Visibility  Item_MRP  \\\n",
              "4325        13.00                 0        -1.873283   79.6986   \n",
              "246         12.00                 0        -3.382979  179.3976   \n",
              "22          14.60                 1        -3.661337  196.5084   \n",
              "4612        15.50                 2        -2.065209  262.1568   \n",
              "1894        15.35                 0        -4.280608   62.7168   \n",
              "\n",
              "      Outlet_Establishment_Year  Outlet_Size  Outlet_Location_Type  \\\n",
              "4325                       1997            2                     0   \n",
              "246                        1987            0                     2   \n",
              "22                         2004            2                     1   \n",
              "4612                       1998            2                     2   \n",
              "1894                       1999            1                     0   \n",
              "\n",
              "      Outlet_Years  Price_Per_Unit_Weight  Item_MRP_Clusters  ...  \\\n",
              "4325            22               1.813303                  1  ...   \n",
              "246             32               2.704698                  2  ...   \n",
              "22              15               2.599684                  2  ...   \n",
              "4612            21               2.828103                  3  ...   \n",
              "1894            20               1.407514                  0  ...   \n",
              "\n",
              "      Outlet_Type_Grocery Store  Outlet_Type_Supermarket Type1  \\\n",
              "4325                          0                              1   \n",
              "246                           0                              1   \n",
              "22                            0                              1   \n",
              "4612                          1                              0   \n",
              "1894                          0                              1   \n",
              "\n",
              "      Outlet_Type_Supermarket Type2  Outlet_Type_Supermarket Type3  \\\n",
              "4325                              0                              0   \n",
              "246                               0                              0   \n",
              "22                                0                              0   \n",
              "4612                              0                              0   \n",
              "1894                              0                              0   \n",
              "\n",
              "      Item_Type_new_non_perishable  Item_Type_new_not_sure  \\\n",
              "4325                             1                       0   \n",
              "246                              1                       0   \n",
              "22                               1                       0   \n",
              "4612                             1                       0   \n",
              "1894                             1                       0   \n",
              "\n",
              "      Item_Type_new_perishable  Item_Category_DR  Item_Category_FD  \\\n",
              "4325                         0                 0                 1   \n",
              "246                          0                 0                 1   \n",
              "22                           0                 0                 0   \n",
              "4612                         0                 0                 1   \n",
              "1894                         0                 0                 1   \n",
              "\n",
              "      Item_Category_NC  \n",
              "4325                 0  \n",
              "246                  0  \n",
              "22                   1  \n",
              "4612                 0  \n",
              "1894                 0  \n",
              "\n",
              "[5 rows x 1605 columns]"
            ],
            "text/html": [
              "\n",
              "  <div id=\"df-faafa02c-a0d8-46b9-aae4-ba717bb706df\">\n",
              "    <div class=\"colab-df-container\">\n",
              "      <div>\n",
              "<style scoped>\n",
              "    .dataframe tbody tr th:only-of-type {\n",
              "        vertical-align: middle;\n",
              "    }\n",
              "\n",
              "    .dataframe tbody tr th {\n",
              "        vertical-align: top;\n",
              "    }\n",
              "\n",
              "    .dataframe thead th {\n",
              "        text-align: right;\n",
              "    }\n",
              "</style>\n",
              "<table border=\"1\" class=\"dataframe\">\n",
              "  <thead>\n",
              "    <tr style=\"text-align: right;\">\n",
              "      <th></th>\n",
              "      <th>Item_Weight</th>\n",
              "      <th>Item_Fat_Content</th>\n",
              "      <th>Item_Visibility</th>\n",
              "      <th>Item_MRP</th>\n",
              "      <th>Outlet_Establishment_Year</th>\n",
              "      <th>Outlet_Size</th>\n",
              "      <th>Outlet_Location_Type</th>\n",
              "      <th>Outlet_Years</th>\n",
              "      <th>Price_Per_Unit_Weight</th>\n",
              "      <th>Item_MRP_Clusters</th>\n",
              "      <th>...</th>\n",
              "      <th>Outlet_Type_Grocery Store</th>\n",
              "      <th>Outlet_Type_Supermarket Type1</th>\n",
              "      <th>Outlet_Type_Supermarket Type2</th>\n",
              "      <th>Outlet_Type_Supermarket Type3</th>\n",
              "      <th>Item_Type_new_non_perishable</th>\n",
              "      <th>Item_Type_new_not_sure</th>\n",
              "      <th>Item_Type_new_perishable</th>\n",
              "      <th>Item_Category_DR</th>\n",
              "      <th>Item_Category_FD</th>\n",
              "      <th>Item_Category_NC</th>\n",
              "    </tr>\n",
              "  </thead>\n",
              "  <tbody>\n",
              "    <tr>\n",
              "      <th>4325</th>\n",
              "      <td>13.00</td>\n",
              "      <td>0</td>\n",
              "      <td>-1.873283</td>\n",
              "      <td>79.6986</td>\n",
              "      <td>1997</td>\n",
              "      <td>2</td>\n",
              "      <td>0</td>\n",
              "      <td>22</td>\n",
              "      <td>1.813303</td>\n",
              "      <td>1</td>\n",
              "      <td>...</td>\n",
              "      <td>0</td>\n",
              "      <td>1</td>\n",
              "      <td>0</td>\n",
              "      <td>0</td>\n",
              "      <td>1</td>\n",
              "      <td>0</td>\n",
              "      <td>0</td>\n",
              "      <td>0</td>\n",
              "      <td>1</td>\n",
              "      <td>0</td>\n",
              "    </tr>\n",
              "    <tr>\n",
              "      <th>246</th>\n",
              "      <td>12.00</td>\n",
              "      <td>0</td>\n",
              "      <td>-3.382979</td>\n",
              "      <td>179.3976</td>\n",
              "      <td>1987</td>\n",
              "      <td>0</td>\n",
              "      <td>2</td>\n",
              "      <td>32</td>\n",
              "      <td>2.704698</td>\n",
              "      <td>2</td>\n",
              "      <td>...</td>\n",
              "      <td>0</td>\n",
              "      <td>1</td>\n",
              "      <td>0</td>\n",
              "      <td>0</td>\n",
              "      <td>1</td>\n",
              "      <td>0</td>\n",
              "      <td>0</td>\n",
              "      <td>0</td>\n",
              "      <td>1</td>\n",
              "      <td>0</td>\n",
              "    </tr>\n",
              "    <tr>\n",
              "      <th>22</th>\n",
              "      <td>14.60</td>\n",
              "      <td>1</td>\n",
              "      <td>-3.661337</td>\n",
              "      <td>196.5084</td>\n",
              "      <td>2004</td>\n",
              "      <td>2</td>\n",
              "      <td>1</td>\n",
              "      <td>15</td>\n",
              "      <td>2.599684</td>\n",
              "      <td>2</td>\n",
              "      <td>...</td>\n",
              "      <td>0</td>\n",
              "      <td>1</td>\n",
              "      <td>0</td>\n",
              "      <td>0</td>\n",
              "      <td>1</td>\n",
              "      <td>0</td>\n",
              "      <td>0</td>\n",
              "      <td>0</td>\n",
              "      <td>0</td>\n",
              "      <td>1</td>\n",
              "    </tr>\n",
              "    <tr>\n",
              "      <th>4612</th>\n",
              "      <td>15.50</td>\n",
              "      <td>2</td>\n",
              "      <td>-2.065209</td>\n",
              "      <td>262.1568</td>\n",
              "      <td>1998</td>\n",
              "      <td>2</td>\n",
              "      <td>2</td>\n",
              "      <td>21</td>\n",
              "      <td>2.828103</td>\n",
              "      <td>3</td>\n",
              "      <td>...</td>\n",
              "      <td>1</td>\n",
              "      <td>0</td>\n",
              "      <td>0</td>\n",
              "      <td>0</td>\n",
              "      <td>1</td>\n",
              "      <td>0</td>\n",
              "      <td>0</td>\n",
              "      <td>0</td>\n",
              "      <td>1</td>\n",
              "      <td>0</td>\n",
              "    </tr>\n",
              "    <tr>\n",
              "      <th>1894</th>\n",
              "      <td>15.35</td>\n",
              "      <td>0</td>\n",
              "      <td>-4.280608</td>\n",
              "      <td>62.7168</td>\n",
              "      <td>1999</td>\n",
              "      <td>1</td>\n",
              "      <td>0</td>\n",
              "      <td>20</td>\n",
              "      <td>1.407514</td>\n",
              "      <td>0</td>\n",
              "      <td>...</td>\n",
              "      <td>0</td>\n",
              "      <td>1</td>\n",
              "      <td>0</td>\n",
              "      <td>0</td>\n",
              "      <td>1</td>\n",
              "      <td>0</td>\n",
              "      <td>0</td>\n",
              "      <td>0</td>\n",
              "      <td>1</td>\n",
              "      <td>0</td>\n",
              "    </tr>\n",
              "  </tbody>\n",
              "</table>\n",
              "<p>5 rows × 1605 columns</p>\n",
              "</div>\n",
              "      <button class=\"colab-df-convert\" onclick=\"convertToInteractive('df-faafa02c-a0d8-46b9-aae4-ba717bb706df')\"\n",
              "              title=\"Convert this dataframe to an interactive table.\"\n",
              "              style=\"display:none;\">\n",
              "        \n",
              "  <svg xmlns=\"http://www.w3.org/2000/svg\" height=\"24px\"viewBox=\"0 0 24 24\"\n",
              "       width=\"24px\">\n",
              "    <path d=\"M0 0h24v24H0V0z\" fill=\"none\"/>\n",
              "    <path d=\"M18.56 5.44l.94 2.06.94-2.06 2.06-.94-2.06-.94-.94-2.06-.94 2.06-2.06.94zm-11 1L8.5 8.5l.94-2.06 2.06-.94-2.06-.94L8.5 2.5l-.94 2.06-2.06.94zm10 10l.94 2.06.94-2.06 2.06-.94-2.06-.94-.94-2.06-.94 2.06-2.06.94z\"/><path d=\"M17.41 7.96l-1.37-1.37c-.4-.4-.92-.59-1.43-.59-.52 0-1.04.2-1.43.59L10.3 9.45l-7.72 7.72c-.78.78-.78 2.05 0 2.83L4 21.41c.39.39.9.59 1.41.59.51 0 1.02-.2 1.41-.59l7.78-7.78 2.81-2.81c.8-.78.8-2.07 0-2.86zM5.41 20L4 18.59l7.72-7.72 1.47 1.35L5.41 20z\"/>\n",
              "  </svg>\n",
              "      </button>\n",
              "      \n",
              "  <style>\n",
              "    .colab-df-container {\n",
              "      display:flex;\n",
              "      flex-wrap:wrap;\n",
              "      gap: 12px;\n",
              "    }\n",
              "\n",
              "    .colab-df-convert {\n",
              "      background-color: #E8F0FE;\n",
              "      border: none;\n",
              "      border-radius: 50%;\n",
              "      cursor: pointer;\n",
              "      display: none;\n",
              "      fill: #1967D2;\n",
              "      height: 32px;\n",
              "      padding: 0 0 0 0;\n",
              "      width: 32px;\n",
              "    }\n",
              "\n",
              "    .colab-df-convert:hover {\n",
              "      background-color: #E2EBFA;\n",
              "      box-shadow: 0px 1px 2px rgba(60, 64, 67, 0.3), 0px 1px 3px 1px rgba(60, 64, 67, 0.15);\n",
              "      fill: #174EA6;\n",
              "    }\n",
              "\n",
              "    [theme=dark] .colab-df-convert {\n",
              "      background-color: #3B4455;\n",
              "      fill: #D2E3FC;\n",
              "    }\n",
              "\n",
              "    [theme=dark] .colab-df-convert:hover {\n",
              "      background-color: #434B5C;\n",
              "      box-shadow: 0px 1px 3px 1px rgba(0, 0, 0, 0.15);\n",
              "      filter: drop-shadow(0px 1px 2px rgba(0, 0, 0, 0.3));\n",
              "      fill: #FFFFFF;\n",
              "    }\n",
              "  </style>\n",
              "\n",
              "      <script>\n",
              "        const buttonEl =\n",
              "          document.querySelector('#df-faafa02c-a0d8-46b9-aae4-ba717bb706df button.colab-df-convert');\n",
              "        buttonEl.style.display =\n",
              "          google.colab.kernel.accessAllowed ? 'block' : 'none';\n",
              "\n",
              "        async function convertToInteractive(key) {\n",
              "          const element = document.querySelector('#df-faafa02c-a0d8-46b9-aae4-ba717bb706df');\n",
              "          const dataTable =\n",
              "            await google.colab.kernel.invokeFunction('convertToInteractive',\n",
              "                                                     [key], {});\n",
              "          if (!dataTable) return;\n",
              "\n",
              "          const docLinkHtml = 'Like what you see? Visit the ' +\n",
              "            '<a target=\"_blank\" href=https://colab.research.google.com/notebooks/data_table.ipynb>data table notebook</a>'\n",
              "            + ' to learn more about interactive tables.';\n",
              "          element.innerHTML = '';\n",
              "          dataTable['output_type'] = 'display_data';\n",
              "          await google.colab.output.renderOutput(dataTable, element);\n",
              "          const docLink = document.createElement('div');\n",
              "          docLink.innerHTML = docLinkHtml;\n",
              "          element.appendChild(docLink);\n",
              "        }\n",
              "      </script>\n",
              "    </div>\n",
              "  </div>\n",
              "  "
            ]
          },
          "metadata": {},
          "execution_count": 88
        }
      ],
      "source": [
        "X_train.head()"
      ]
    },
    {
      "cell_type": "code",
      "execution_count": 89,
      "metadata": {
        "id": "xssl8ePwfpSG"
      },
      "outputs": [],
      "source": [
        "model = LinearRegression(normalize=True,fit_intercept= True)"
      ]
    },
    {
      "cell_type": "code",
      "execution_count": 90,
      "metadata": {
        "colab": {
          "base_uri": "https://localhost:8080/"
        },
        "id": "_UlSd2tGfpSH",
        "outputId": "f3fc83f8-8dcf-40ec-8f86-798c3a502594"
      },
      "outputs": [
        {
          "output_type": "execute_result",
          "data": {
            "text/plain": [
              "LinearRegression(normalize=True)"
            ]
          },
          "metadata": {},
          "execution_count": 90
        }
      ],
      "source": [
        "model.fit(X,y)"
      ]
    },
    {
      "cell_type": "code",
      "execution_count": 93,
      "metadata": {
        "id": "ch3H9YELfpSH"
      },
      "outputs": [],
      "source": [
        "y_pred = model.predict(X_valid)"
      ]
    },
    {
      "cell_type": "code",
      "execution_count": 94,
      "metadata": {
        "colab": {
          "base_uri": "https://localhost:8080/"
        },
        "id": "YuabfIJtfpSH",
        "outputId": "9dec43f2-fa4a-4976-8ac0-b404687c0b7a"
      },
      "outputs": [
        {
          "output_type": "execute_result",
          "data": {
            "text/plain": [
              "(0.5951568007914028, 0.6158938637798723)"
            ]
          },
          "metadata": {},
          "execution_count": 94
        }
      ],
      "source": [
        "model.score(X_train,y_train),model.score(X_valid,y_valid)"
      ]
    },
    {
      "cell_type": "code",
      "execution_count": 92,
      "metadata": {
        "id": "9uM602RdfpSI"
      },
      "outputs": [],
      "source": [
        "from sklearn.metrics import mean_squared_error,mean_absolute_error"
      ]
    },
    {
      "cell_type": "code",
      "execution_count": 95,
      "metadata": {
        "colab": {
          "base_uri": "https://localhost:8080/"
        },
        "id": "qeow5yt1fpSI",
        "outputId": "89de1d9f-ea61-4a90-bc30-51c7df3ef4c5"
      },
      "outputs": [
        {
          "output_type": "execute_result",
          "data": {
            "text/plain": [
              "(1231393.67337409, 853.6673335523228)"
            ]
          },
          "metadata": {},
          "execution_count": 95
        }
      ],
      "source": [
        "mean_squared_error(y_valid, y_pred),mean_absolute_error(y_valid, y_pred)"
      ]
    },
    {
      "cell_type": "markdown",
      "metadata": {
        "id": "4AAZ-jn4fpSI"
      },
      "source": [
        "### XGBOOST REGRESSOR"
      ]
    },
    {
      "cell_type": "code",
      "execution_count": 96,
      "metadata": {
        "colab": {
          "base_uri": "https://localhost:8080/"
        },
        "id": "X7Hhz4DLfpSJ",
        "outputId": "6a734388-4320-42b7-b577-9e05896fddf5"
      },
      "outputs": [
        {
          "output_type": "stream",
          "name": "stdout",
          "text": [
            "[12:42:35] WARNING: /workspace/src/objective/regression_obj.cu:152: reg:linear is now deprecated in favor of reg:squarederror.\n",
            "Mean Absolute Error : 795.3185603483576\n"
          ]
        }
      ],
      "source": [
        "from sklearn.model_selection import KFold, cross_val_score\n",
        "from xgboost import XGBRegressor\n",
        "\n",
        "my_model = XGBRegressor(n_estimators=1000, learning_rate=0.05)\n",
        "my_model.fit(X_train,y_train)\n",
        "predictions = my_model.predict(X_valid)\n",
        "\n",
        "from sklearn.metrics import mean_absolute_error\n",
        "print(\"Mean Absolute Error : \" + str(mean_absolute_error(y_valid,predictions)))"
      ]
    },
    {
      "cell_type": "markdown",
      "metadata": {
        "id": "Apy9zTYYfpSJ"
      },
      "source": [
        "### LASSO REGRSSOR"
      ]
    },
    {
      "cell_type": "code",
      "execution_count": 97,
      "metadata": {
        "id": "NEs4j00sfpSJ"
      },
      "outputs": [],
      "source": [
        "from sklearn.linear_model import Lasso"
      ]
    },
    {
      "cell_type": "code",
      "execution_count": 98,
      "metadata": {
        "colab": {
          "base_uri": "https://localhost:8080/"
        },
        "id": "gCa26j5dfpSK",
        "outputId": "5ee61c6c-852d-4c11-c41c-e9ed36d4ba3e"
      },
      "outputs": [
        {
          "output_type": "execute_result",
          "data": {
            "text/plain": [
              "Lasso(alpha=0.01)"
            ]
          },
          "metadata": {},
          "execution_count": 98
        }
      ],
      "source": [
        "ls = Lasso(alpha = 0.01)\n",
        "ls.fit(X_train,y_train)\n"
      ]
    },
    {
      "cell_type": "code",
      "execution_count": 99,
      "metadata": {
        "id": "AMEiKzY7fpSK"
      },
      "outputs": [],
      "source": [
        "predictions = ls.predict(X_valid)"
      ]
    },
    {
      "cell_type": "code",
      "execution_count": 100,
      "metadata": {
        "colab": {
          "base_uri": "https://localhost:8080/"
        },
        "id": "UjOPDpQ4fpSL",
        "outputId": "34cd1aa0-1df9-474f-b421-ce34349f9fef"
      },
      "outputs": [
        {
          "output_type": "execute_result",
          "data": {
            "text/plain": [
              "988.721047949262"
            ]
          },
          "metadata": {},
          "execution_count": 100
        }
      ],
      "source": [
        "mean_absolute_error(y_valid,predictions)"
      ]
    },
    {
      "cell_type": "code",
      "execution_count": null,
      "metadata": {
        "id": "iNZuFMxDfpSL"
      },
      "outputs": [],
      "source": [
        ""
      ]
    }
  ],
  "metadata": {
    "kernelspec": {
      "display_name": "Python 3",
      "language": "python",
      "name": "python3"
    },
    "language_info": {
      "codemirror_mode": {
        "name": "ipython",
        "version": 3
      },
      "file_extension": ".py",
      "mimetype": "text/x-python",
      "name": "python",
      "nbconvert_exporter": "python",
      "pygments_lexer": "ipython3",
      "version": "3.6.6"
    },
    "colab": {
      "name": "Store Sales Prediction - EDA_2.ipynb",
      "provenance": []
    }
  },
  "nbformat": 4,
  "nbformat_minor": 0
}